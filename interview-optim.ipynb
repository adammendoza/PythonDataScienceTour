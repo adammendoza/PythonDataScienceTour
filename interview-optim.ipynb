{
 "cells": [
  {
   "cell_type": "markdown",
   "metadata": {},
   "source": [
    "# Preamble"
   ]
  },
  {
   "cell_type": "code",
   "execution_count": 1,
   "metadata": {
    "collapsed": true
   },
   "outputs": [],
   "source": [
    "import pandas\n",
    "import seaborn\n",
    "import matplotlib.pyplot as plt"
   ]
  },
  {
   "cell_type": "code",
   "execution_count": 2,
   "metadata": {
    "collapsed": true
   },
   "outputs": [],
   "source": [
    "%matplotlib inline"
   ]
  },
  {
   "cell_type": "code",
   "execution_count": 3,
   "metadata": {
    "collapsed": true
   },
   "outputs": [],
   "source": [
    "seaborn.set_style(\"whitegrid\")"
   ]
  },
  {
   "cell_type": "markdown",
   "metadata": {},
   "source": [
    "# Data Processing/Analysis Task"
   ]
  },
  {
   "cell_type": "markdown",
   "metadata": {
    "collapsed": true
   },
   "source": [
    "In this task, you have to find the correlation between the number of museums and the population (`Pop_10`) of the different French departments. Two different datasets are provided: `Liste_musees_de_France_utf8.tsv` and `dep_pop_area.csv`. The first one (`Liste_musees_de_France_utf8.tsv`) contains a list with all Museums in France. The second  dataset (`dep_pop_area.csv`) provides the population at all French departments as published in 2010 (`Pop_10` field/column in the dataset). \n",
    "\n",
    "Based on these two datasets, your script should produce a scatter plot that will illustrate the correlation of the two values (population vs. number of museums).\n",
    "\n",
    "Useful note: Use the pandas library for the processing of the datasets."
   ]
  },
  {
   "cell_type": "code",
   "execution_count": 4,
   "metadata": {
    "collapsed": true
   },
   "outputs": [],
   "source": [
    "#Please add your code here"
   ]
  },
  {
   "cell_type": "markdown",
   "metadata": {},
   "source": [
    "## Load Data"
   ]
  },
  {
   "cell_type": "code",
   "execution_count": 5,
   "metadata": {},
   "outputs": [
    {
     "data": {
      "text/plain": [
       "(1244, 14)"
      ]
     },
     "execution_count": 5,
     "metadata": {},
     "output_type": "execute_result"
    }
   ],
   "source": [
    "museums = pandas.read_csv(\"Liste_musees_de_France_utf8.tsv\", sep=\"\\t\")\n",
    "museums.shape"
   ]
  },
  {
   "cell_type": "code",
   "execution_count": 6,
   "metadata": {},
   "outputs": [
    {
     "data": {
      "text/html": [
       "<div>\n",
       "<style>\n",
       "    .dataframe thead tr:only-child th {\n",
       "        text-align: right;\n",
       "    }\n",
       "\n",
       "    .dataframe thead th {\n",
       "        text-align: left;\n",
       "    }\n",
       "\n",
       "    .dataframe tbody tr th {\n",
       "        vertical-align: top;\n",
       "    }\n",
       "</style>\n",
       "<table border=\"1\" class=\"dataframe\">\n",
       "  <thead>\n",
       "    <tr style=\"text-align: right;\">\n",
       "      <th></th>\n",
       "      <th>NOMREG</th>\n",
       "      <th>NOMDEP</th>\n",
       "      <th>DATEAPPELLATION</th>\n",
       "      <th>FERME</th>\n",
       "      <th>ANNREOUV</th>\n",
       "      <th>ANNEXE</th>\n",
       "      <th>NOM DU MUSEE</th>\n",
       "      <th>ADR</th>\n",
       "      <th>CP</th>\n",
       "      <th>VILLE</th>\n",
       "      <th>SITWEB</th>\n",
       "      <th>FERMETURE ANNUELLE</th>\n",
       "      <th>PERIODE OUVERTURE</th>\n",
       "      <th>JOURS NOCTURNES</th>\n",
       "    </tr>\n",
       "  </thead>\n",
       "  <tbody>\n",
       "    <tr>\n",
       "      <th>0</th>\n",
       "      <td>ALSACE</td>\n",
       "      <td>BAS-RHIN</td>\n",
       "      <td>01/02/2003</td>\n",
       "      <td>NON</td>\n",
       "      <td>NaN</td>\n",
       "      <td>NaN</td>\n",
       "      <td>Musée de la Folie Marco</td>\n",
       "      <td>30, Rue du Dr Sultzer</td>\n",
       "      <td>67140</td>\n",
       "      <td>BARR</td>\n",
       "      <td>www.barr.fr</td>\n",
       "      <td>Novembre à avril</td>\n",
       "      <td>Ouvert de mai à septembre du mercredi au lundi...</td>\n",
       "      <td>NaN</td>\n",
       "    </tr>\n",
       "    <tr>\n",
       "      <th>1</th>\n",
       "      <td>ALSACE</td>\n",
       "      <td>BAS-RHIN</td>\n",
       "      <td>01/02/2003</td>\n",
       "      <td>NON</td>\n",
       "      <td>NaN</td>\n",
       "      <td>NaN</td>\n",
       "      <td>Musée de la Poterie</td>\n",
       "      <td>2, rue de Kuhlendorf</td>\n",
       "      <td>67660</td>\n",
       "      <td>BETSCHDORF</td>\n",
       "      <td>www.betschdorf.fr/tourisme/visiter_betschdrof/...</td>\n",
       "      <td>Novembre à mi-avril</td>\n",
       "      <td>Ouvert du mardi au samedi de 10h à 12h et de 1...</td>\n",
       "      <td>NaN</td>\n",
       "    </tr>\n",
       "    <tr>\n",
       "      <th>2</th>\n",
       "      <td>ALSACE</td>\n",
       "      <td>BAS-RHIN</td>\n",
       "      <td>01/02/2003</td>\n",
       "      <td>OUI</td>\n",
       "      <td>29 juin 2013</td>\n",
       "      <td>NaN</td>\n",
       "      <td>Musée de Bouxwiller et du Pays de Hanau</td>\n",
       "      <td>2, Place du Château Halle aux Blés</td>\n",
       "      <td>67330</td>\n",
       "      <td>BOUXWILLER</td>\n",
       "      <td>www.musee-pays-hanau.webmuseo.com</td>\n",
       "      <td>NaN</td>\n",
       "      <td>Fermé. Ouvert uniquement sur réservation pour ...</td>\n",
       "      <td>NaN</td>\n",
       "    </tr>\n",
       "    <tr>\n",
       "      <th>3</th>\n",
       "      <td>ALSACE</td>\n",
       "      <td>BAS-RHIN</td>\n",
       "      <td>01/02/2003</td>\n",
       "      <td>NON</td>\n",
       "      <td>NaN</td>\n",
       "      <td>NaN</td>\n",
       "      <td>Musée Alsacien</td>\n",
       "      <td>1, place Joseph Thierry</td>\n",
       "      <td>67500</td>\n",
       "      <td>HAGUENAU</td>\n",
       "      <td>www.ville-haguenau.fr/pages/culture/musee.htm</td>\n",
       "      <td>1er janvier, dimanche de Pâques, 1er mai, 1er ...</td>\n",
       "      <td>Ouvert du lundi au vendredi de 9h à 12h et de ...</td>\n",
       "      <td>NaN</td>\n",
       "    </tr>\n",
       "    <tr>\n",
       "      <th>4</th>\n",
       "      <td>ALSACE</td>\n",
       "      <td>BAS-RHIN</td>\n",
       "      <td>01/02/2003</td>\n",
       "      <td>NON</td>\n",
       "      <td>NaN</td>\n",
       "      <td>NaN</td>\n",
       "      <td>Musée Historique</td>\n",
       "      <td>9, Rue du Maréchal Foch B.P. 40261</td>\n",
       "      <td>67504</td>\n",
       "      <td>HAGUENAU Cedex</td>\n",
       "      <td>www.ville-haguenau.fr/pages/culture/musee.htm ...</td>\n",
       "      <td>1er janvier, dimanche de Pâques, 1er mai, 1er ...</td>\n",
       "      <td>Ouvert lundi de 14h à 18h, mercredi au vendred...</td>\n",
       "      <td>NaN</td>\n",
       "    </tr>\n",
       "  </tbody>\n",
       "</table>\n",
       "</div>"
      ],
      "text/plain": [
       "   NOMREG    NOMDEP DATEAPPELLATION FERME      ANNREOUV ANNEXE  \\\n",
       "0  ALSACE  BAS-RHIN      01/02/2003   NON           NaN    NaN   \n",
       "1  ALSACE  BAS-RHIN      01/02/2003   NON           NaN    NaN   \n",
       "2  ALSACE  BAS-RHIN      01/02/2003   OUI  29 juin 2013    NaN   \n",
       "3  ALSACE  BAS-RHIN      01/02/2003   NON           NaN    NaN   \n",
       "4  ALSACE  BAS-RHIN      01/02/2003   NON           NaN    NaN   \n",
       "\n",
       "                              NOM DU MUSEE  \\\n",
       "0                  Musée de la Folie Marco   \n",
       "1                      Musée de la Poterie   \n",
       "2  Musée de Bouxwiller et du Pays de Hanau   \n",
       "3                           Musée Alsacien   \n",
       "4                         Musée Historique   \n",
       "\n",
       "                                  ADR     CP           VILLE  \\\n",
       "0               30, Rue du Dr Sultzer  67140            BARR   \n",
       "1                2, rue de Kuhlendorf  67660      BETSCHDORF   \n",
       "2  2, Place du Château Halle aux Blés  67330      BOUXWILLER   \n",
       "3             1, place Joseph Thierry  67500        HAGUENAU   \n",
       "4  9, Rue du Maréchal Foch B.P. 40261  67504  HAGUENAU Cedex   \n",
       "\n",
       "                                              SITWEB  \\\n",
       "0                                        www.barr.fr   \n",
       "1  www.betschdorf.fr/tourisme/visiter_betschdrof/...   \n",
       "2                  www.musee-pays-hanau.webmuseo.com   \n",
       "3      www.ville-haguenau.fr/pages/culture/musee.htm   \n",
       "4  www.ville-haguenau.fr/pages/culture/musee.htm ...   \n",
       "\n",
       "                                  FERMETURE ANNUELLE  \\\n",
       "0                                   Novembre à avril   \n",
       "1                                Novembre à mi-avril   \n",
       "2                                                NaN   \n",
       "3  1er janvier, dimanche de Pâques, 1er mai, 1er ...   \n",
       "4  1er janvier, dimanche de Pâques, 1er mai, 1er ...   \n",
       "\n",
       "                                   PERIODE OUVERTURE JOURS NOCTURNES  \n",
       "0  Ouvert de mai à septembre du mercredi au lundi...             NaN  \n",
       "1  Ouvert du mardi au samedi de 10h à 12h et de 1...             NaN  \n",
       "2  Fermé. Ouvert uniquement sur réservation pour ...             NaN  \n",
       "3  Ouvert du lundi au vendredi de 9h à 12h et de ...             NaN  \n",
       "4  Ouvert lundi de 14h à 18h, mercredi au vendred...             NaN  "
      ]
     },
     "execution_count": 6,
     "metadata": {},
     "output_type": "execute_result"
    }
   ],
   "source": [
    "museums.head()"
   ]
  },
  {
   "cell_type": "code",
   "execution_count": 7,
   "metadata": {},
   "outputs": [
    {
     "name": "stdout",
     "output_type": "stream",
     "text": [
      "2010_Rank,Department,Pop_31,Pop_99,Pop_08,Pop_10,Area,Area_pop/km2,INSEE Dept_No\r",
      "\r\n",
      "40,Ain,322918,515270,581355,597341,5762,104,01\r",
      "\r\n",
      "49,Aisne,489368,535489,538790,540508,7369,73,02\r",
      "\r\n",
      "68,Allier,373924,344721,342807,342908,7340,47,03\r",
      "\r\n",
      "94,Alpes-de-Haute-Provence,87566,139561,157965,160149,6925,23,04\r",
      "\r\n",
      "19,Alpes-Maritimes,493376,1011326,1084428,1078729,4299,251,06\r",
      "\r\n",
      "77,Ardennes,293746,290130,284197,283250,5229,54,08\r",
      "\r\n",
      "72,Ard�che,282911,286023,311452,315090,5529,57,07\r",
      "\r\n",
      "95,Ari�ge,161265,137205,150201,152038,4890,31,09\r",
      "\r\n",
      "75,Aube,242596,292131,301327,303327,6004,51,10\r",
      "\r\n"
     ]
    }
   ],
   "source": [
    "!head dep_pop_area.csv"
   ]
  },
  {
   "cell_type": "code",
   "execution_count": 8,
   "metadata": {},
   "outputs": [
    {
     "data": {
      "text/plain": [
       "(101, 9)"
      ]
     },
     "execution_count": 8,
     "metadata": {},
     "output_type": "execute_result"
    }
   ],
   "source": [
    "population = pandas.read_csv(\"dep_pop_area.csv\", sep=\",\", encoding=\"ISO-8859-1\")\n",
    "population.shape"
   ]
  },
  {
   "cell_type": "code",
   "execution_count": 9,
   "metadata": {
    "scrolled": true
   },
   "outputs": [
    {
     "data": {
      "text/html": [
       "<div>\n",
       "<style>\n",
       "    .dataframe thead tr:only-child th {\n",
       "        text-align: right;\n",
       "    }\n",
       "\n",
       "    .dataframe thead th {\n",
       "        text-align: left;\n",
       "    }\n",
       "\n",
       "    .dataframe tbody tr th {\n",
       "        vertical-align: top;\n",
       "    }\n",
       "</style>\n",
       "<table border=\"1\" class=\"dataframe\">\n",
       "  <thead>\n",
       "    <tr style=\"text-align: right;\">\n",
       "      <th></th>\n",
       "      <th>2010_Rank</th>\n",
       "      <th>Department</th>\n",
       "      <th>Pop_31</th>\n",
       "      <th>Pop_99</th>\n",
       "      <th>Pop_08</th>\n",
       "      <th>Pop_10</th>\n",
       "      <th>Area</th>\n",
       "      <th>Area_pop/km2</th>\n",
       "      <th>INSEE Dept_No</th>\n",
       "    </tr>\n",
       "  </thead>\n",
       "  <tbody>\n",
       "    <tr>\n",
       "      <th>0</th>\n",
       "      <td>40</td>\n",
       "      <td>Ain</td>\n",
       "      <td>322918</td>\n",
       "      <td>515270</td>\n",
       "      <td>581355</td>\n",
       "      <td>597341</td>\n",
       "      <td>5762</td>\n",
       "      <td>104</td>\n",
       "      <td>01</td>\n",
       "    </tr>\n",
       "    <tr>\n",
       "      <th>1</th>\n",
       "      <td>49</td>\n",
       "      <td>Aisne</td>\n",
       "      <td>489368</td>\n",
       "      <td>535489</td>\n",
       "      <td>538790</td>\n",
       "      <td>540508</td>\n",
       "      <td>7369</td>\n",
       "      <td>73</td>\n",
       "      <td>02</td>\n",
       "    </tr>\n",
       "    <tr>\n",
       "      <th>2</th>\n",
       "      <td>68</td>\n",
       "      <td>Allier</td>\n",
       "      <td>373924</td>\n",
       "      <td>344721</td>\n",
       "      <td>342807</td>\n",
       "      <td>342908</td>\n",
       "      <td>7340</td>\n",
       "      <td>47</td>\n",
       "      <td>03</td>\n",
       "    </tr>\n",
       "    <tr>\n",
       "      <th>3</th>\n",
       "      <td>94</td>\n",
       "      <td>Alpes-de-Haute-Provence</td>\n",
       "      <td>87566</td>\n",
       "      <td>139561</td>\n",
       "      <td>157965</td>\n",
       "      <td>160149</td>\n",
       "      <td>6925</td>\n",
       "      <td>23</td>\n",
       "      <td>04</td>\n",
       "    </tr>\n",
       "    <tr>\n",
       "      <th>4</th>\n",
       "      <td>19</td>\n",
       "      <td>Alpes-Maritimes</td>\n",
       "      <td>493376</td>\n",
       "      <td>1011326</td>\n",
       "      <td>1084428</td>\n",
       "      <td>1078729</td>\n",
       "      <td>4299</td>\n",
       "      <td>251</td>\n",
       "      <td>06</td>\n",
       "    </tr>\n",
       "    <tr>\n",
       "      <th>5</th>\n",
       "      <td>77</td>\n",
       "      <td>Ardennes</td>\n",
       "      <td>293746</td>\n",
       "      <td>290130</td>\n",
       "      <td>284197</td>\n",
       "      <td>283250</td>\n",
       "      <td>5229</td>\n",
       "      <td>54</td>\n",
       "      <td>08</td>\n",
       "    </tr>\n",
       "    <tr>\n",
       "      <th>6</th>\n",
       "      <td>72</td>\n",
       "      <td>Ardèche</td>\n",
       "      <td>282911</td>\n",
       "      <td>286023</td>\n",
       "      <td>311452</td>\n",
       "      <td>315090</td>\n",
       "      <td>5529</td>\n",
       "      <td>57</td>\n",
       "      <td>07</td>\n",
       "    </tr>\n",
       "    <tr>\n",
       "      <th>7</th>\n",
       "      <td>95</td>\n",
       "      <td>Ariège</td>\n",
       "      <td>161265</td>\n",
       "      <td>137205</td>\n",
       "      <td>150201</td>\n",
       "      <td>152038</td>\n",
       "      <td>4890</td>\n",
       "      <td>31</td>\n",
       "      <td>09</td>\n",
       "    </tr>\n",
       "    <tr>\n",
       "      <th>8</th>\n",
       "      <td>75</td>\n",
       "      <td>Aube</td>\n",
       "      <td>242596</td>\n",
       "      <td>292131</td>\n",
       "      <td>301327</td>\n",
       "      <td>303327</td>\n",
       "      <td>6004</td>\n",
       "      <td>51</td>\n",
       "      <td>10</td>\n",
       "    </tr>\n",
       "    <tr>\n",
       "      <th>9</th>\n",
       "      <td>66</td>\n",
       "      <td>Aude</td>\n",
       "      <td>296880</td>\n",
       "      <td>309770</td>\n",
       "      <td>349237</td>\n",
       "      <td>356467</td>\n",
       "      <td>6139</td>\n",
       "      <td>58</td>\n",
       "      <td>11</td>\n",
       "    </tr>\n",
       "    <tr>\n",
       "      <th>10</th>\n",
       "      <td>78</td>\n",
       "      <td>Aveyron</td>\n",
       "      <td>323782</td>\n",
       "      <td>263808</td>\n",
       "      <td>275889</td>\n",
       "      <td>276805</td>\n",
       "      <td>8735</td>\n",
       "      <td>32</td>\n",
       "      <td>12</td>\n",
       "    </tr>\n",
       "    <tr>\n",
       "      <th>11</th>\n",
       "      <td>18</td>\n",
       "      <td>Bas-Rhin</td>\n",
       "      <td>688242</td>\n",
       "      <td>1026120</td>\n",
       "      <td>1091015</td>\n",
       "      <td>1095905</td>\n",
       "      <td>4755</td>\n",
       "      <td>230</td>\n",
       "      <td>67</td>\n",
       "    </tr>\n",
       "    <tr>\n",
       "      <th>12</th>\n",
       "      <td>3</td>\n",
       "      <td>Bouches-du-Rhône</td>\n",
       "      <td>1101672</td>\n",
       "      <td>1835719</td>\n",
       "      <td>1966005</td>\n",
       "      <td>1972018</td>\n",
       "      <td>5087</td>\n",
       "      <td>388</td>\n",
       "      <td>13</td>\n",
       "    </tr>\n",
       "    <tr>\n",
       "      <th>13</th>\n",
       "      <td>34</td>\n",
       "      <td>Calvados</td>\n",
       "      <td>401356</td>\n",
       "      <td>648385</td>\n",
       "      <td>678206</td>\n",
       "      <td>683105</td>\n",
       "      <td>5548</td>\n",
       "      <td>123</td>\n",
       "      <td>14</td>\n",
       "    </tr>\n",
       "    <tr>\n",
       "      <th>14</th>\n",
       "      <td>96</td>\n",
       "      <td>Cantal</td>\n",
       "      <td>193505</td>\n",
       "      <td>150778</td>\n",
       "      <td>148737</td>\n",
       "      <td>148162</td>\n",
       "      <td>5726</td>\n",
       "      <td>26</td>\n",
       "      <td>15</td>\n",
       "    </tr>\n",
       "    <tr>\n",
       "      <th>15</th>\n",
       "      <td>67</td>\n",
       "      <td>Charente</td>\n",
       "      <td>310489</td>\n",
       "      <td>339628</td>\n",
       "      <td>351581</td>\n",
       "      <td>351577</td>\n",
       "      <td>5956</td>\n",
       "      <td>59</td>\n",
       "      <td>16</td>\n",
       "    </tr>\n",
       "    <tr>\n",
       "      <th>16</th>\n",
       "      <td>39</td>\n",
       "      <td>Charente-Maritime</td>\n",
       "      <td>415249</td>\n",
       "      <td>557024</td>\n",
       "      <td>611714</td>\n",
       "      <td>622323</td>\n",
       "      <td>6864</td>\n",
       "      <td>91</td>\n",
       "      <td>17</td>\n",
       "    </tr>\n",
       "    <tr>\n",
       "      <th>17</th>\n",
       "      <td>73</td>\n",
       "      <td>Cher</td>\n",
       "      <td>293918</td>\n",
       "      <td>314428</td>\n",
       "      <td>313251</td>\n",
       "      <td>311257</td>\n",
       "      <td>7235</td>\n",
       "      <td>43</td>\n",
       "      <td>18</td>\n",
       "    </tr>\n",
       "    <tr>\n",
       "      <th>18</th>\n",
       "      <td>80</td>\n",
       "      <td>Corrèze</td>\n",
       "      <td>264129</td>\n",
       "      <td>232576</td>\n",
       "      <td>242896</td>\n",
       "      <td>243551</td>\n",
       "      <td>5857</td>\n",
       "      <td>42</td>\n",
       "      <td>19</td>\n",
       "    </tr>\n",
       "    <tr>\n",
       "      <th>19</th>\n",
       "      <td>97</td>\n",
       "      <td>Corse-du-Sud</td>\n",
       "      <td>-</td>\n",
       "      <td>118593</td>\n",
       "      <td>140953</td>\n",
       "      <td>143600</td>\n",
       "      <td>4014</td>\n",
       "      <td>36</td>\n",
       "      <td>2A</td>\n",
       "    </tr>\n",
       "    <tr>\n",
       "      <th>20</th>\n",
       "      <td>100</td>\n",
       "      <td>Creuse</td>\n",
       "      <td>207882</td>\n",
       "      <td>124470</td>\n",
       "      <td>123907</td>\n",
       "      <td>123029</td>\n",
       "      <td>5565</td>\n",
       "      <td>22</td>\n",
       "      <td>23</td>\n",
       "    </tr>\n",
       "    <tr>\n",
       "      <th>21</th>\n",
       "      <td>51</td>\n",
       "      <td>Côte-d'Or</td>\n",
       "      <td>333800</td>\n",
       "      <td>506755</td>\n",
       "      <td>521608</td>\n",
       "      <td>524358</td>\n",
       "      <td>8763</td>\n",
       "      <td>60</td>\n",
       "      <td>21</td>\n",
       "    </tr>\n",
       "    <tr>\n",
       "      <th>22</th>\n",
       "      <td>41</td>\n",
       "      <td>Côtes-d'Armor</td>\n",
       "      <td>539531</td>\n",
       "      <td>542373</td>\n",
       "      <td>581570</td>\n",
       "      <td>591641</td>\n",
       "      <td>6878</td>\n",
       "      <td>86</td>\n",
       "      <td>22</td>\n",
       "    </tr>\n",
       "    <tr>\n",
       "      <th>23</th>\n",
       "      <td>65</td>\n",
       "      <td>Deux-Sèvres</td>\n",
       "      <td>308481</td>\n",
       "      <td>344392</td>\n",
       "      <td>365059</td>\n",
       "      <td>369270</td>\n",
       "      <td>5999</td>\n",
       "      <td>62</td>\n",
       "      <td>79</td>\n",
       "    </tr>\n",
       "    <tr>\n",
       "      <th>24</th>\n",
       "      <td>58</td>\n",
       "      <td>Dordogne</td>\n",
       "      <td>383720</td>\n",
       "      <td>388293</td>\n",
       "      <td>409388</td>\n",
       "      <td>414149</td>\n",
       "      <td>9060</td>\n",
       "      <td>46</td>\n",
       "      <td>24</td>\n",
       "    </tr>\n",
       "    <tr>\n",
       "      <th>25</th>\n",
       "      <td>50</td>\n",
       "      <td>Doubs</td>\n",
       "      <td>305500</td>\n",
       "      <td>499062</td>\n",
       "      <td>522685</td>\n",
       "      <td>527770</td>\n",
       "      <td>5234</td>\n",
       "      <td>101</td>\n",
       "      <td>25</td>\n",
       "    </tr>\n",
       "    <tr>\n",
       "      <th>26</th>\n",
       "      <td>53</td>\n",
       "      <td>Drôme</td>\n",
       "      <td>267080</td>\n",
       "      <td>437778</td>\n",
       "      <td>478069</td>\n",
       "      <td>484715</td>\n",
       "      <td>6530</td>\n",
       "      <td>74</td>\n",
       "      <td>26</td>\n",
       "    </tr>\n",
       "    <tr>\n",
       "      <th>27</th>\n",
       "      <td>15</td>\n",
       "      <td>Essonne</td>\n",
       "      <td>271094</td>\n",
       "      <td>1134238</td>\n",
       "      <td>1205850</td>\n",
       "      <td>1215340</td>\n",
       "      <td>1804</td>\n",
       "      <td>674</td>\n",
       "      <td>91</td>\n",
       "    </tr>\n",
       "    <tr>\n",
       "      <th>28</th>\n",
       "      <td>43</td>\n",
       "      <td>Eure</td>\n",
       "      <td>305788</td>\n",
       "      <td>541054</td>\n",
       "      <td>577087</td>\n",
       "      <td>586543</td>\n",
       "      <td>6040</td>\n",
       "      <td>97</td>\n",
       "      <td>27</td>\n",
       "    </tr>\n",
       "    <tr>\n",
       "      <th>29</th>\n",
       "      <td>55</td>\n",
       "      <td>Eure-et-Loir</td>\n",
       "      <td>254790</td>\n",
       "      <td>407665</td>\n",
       "      <td>423559</td>\n",
       "      <td>428933</td>\n",
       "      <td>5880</td>\n",
       "      <td>73</td>\n",
       "      <td>28</td>\n",
       "    </tr>\n",
       "    <tr>\n",
       "      <th>...</th>\n",
       "      <td>...</td>\n",
       "      <td>...</td>\n",
       "      <td>...</td>\n",
       "      <td>...</td>\n",
       "      <td>...</td>\n",
       "      <td>...</td>\n",
       "      <td>...</td>\n",
       "      <td>...</td>\n",
       "      <td>...</td>\n",
       "    </tr>\n",
       "    <tr>\n",
       "      <th>71</th>\n",
       "      <td>20</td>\n",
       "      <td>Moselle</td>\n",
       "      <td>693408</td>\n",
       "      <td>1023447</td>\n",
       "      <td>1042230</td>\n",
       "      <td>1045066</td>\n",
       "      <td>6216</td>\n",
       "      <td>168</td>\n",
       "      <td>57</td>\n",
       "    </tr>\n",
       "    <tr>\n",
       "      <th>72</th>\n",
       "      <td>87</td>\n",
       "      <td>Nièvre</td>\n",
       "      <td>255195</td>\n",
       "      <td>225198</td>\n",
       "      <td>220653</td>\n",
       "      <td>219584</td>\n",
       "      <td>6817</td>\n",
       "      <td>32</td>\n",
       "      <td>58</td>\n",
       "    </tr>\n",
       "    <tr>\n",
       "      <th>73</th>\n",
       "      <td>1</td>\n",
       "      <td>Nord</td>\n",
       "      <td>2029449</td>\n",
       "      <td>2555020</td>\n",
       "      <td>2564959</td>\n",
       "      <td>2576770</td>\n",
       "      <td>5743</td>\n",
       "      <td>449</td>\n",
       "      <td>59</td>\n",
       "    </tr>\n",
       "    <tr>\n",
       "      <th>74</th>\n",
       "      <td>26</td>\n",
       "      <td>Oise</td>\n",
       "      <td>407432</td>\n",
       "      <td>766441</td>\n",
       "      <td>799725</td>\n",
       "      <td>803595</td>\n",
       "      <td>5860</td>\n",
       "      <td>137</td>\n",
       "      <td>60</td>\n",
       "    </tr>\n",
       "    <tr>\n",
       "      <th>75</th>\n",
       "      <td>76</td>\n",
       "      <td>Orne</td>\n",
       "      <td>273717</td>\n",
       "      <td>292337</td>\n",
       "      <td>292282</td>\n",
       "      <td>291642</td>\n",
       "      <td>6103</td>\n",
       "      <td>48</td>\n",
       "      <td>61</td>\n",
       "    </tr>\n",
       "    <tr>\n",
       "      <th>76</th>\n",
       "      <td>2</td>\n",
       "      <td>Paris</td>\n",
       "      <td>2891020</td>\n",
       "      <td>2125246</td>\n",
       "      <td>2211297</td>\n",
       "      <td>2243833</td>\n",
       "      <td>105</td>\n",
       "      <td>21370</td>\n",
       "      <td>75</td>\n",
       "    </tr>\n",
       "    <tr>\n",
       "      <th>77</th>\n",
       "      <td>7</td>\n",
       "      <td>Pas-de-Calais</td>\n",
       "      <td>1205191</td>\n",
       "      <td>1441568</td>\n",
       "      <td>1459531</td>\n",
       "      <td>1461387</td>\n",
       "      <td>6671</td>\n",
       "      <td>219</td>\n",
       "      <td>62</td>\n",
       "    </tr>\n",
       "    <tr>\n",
       "      <th>78</th>\n",
       "      <td>38</td>\n",
       "      <td>Puy-de-Dôme</td>\n",
       "      <td>500590</td>\n",
       "      <td>604266</td>\n",
       "      <td>628485</td>\n",
       "      <td>632311</td>\n",
       "      <td>7970</td>\n",
       "      <td>79</td>\n",
       "      <td>63</td>\n",
       "    </tr>\n",
       "    <tr>\n",
       "      <th>79</th>\n",
       "      <td>36</td>\n",
       "      <td>Pyrénées-Atlantiques</td>\n",
       "      <td>422719</td>\n",
       "      <td>600018</td>\n",
       "      <td>647420</td>\n",
       "      <td>653515</td>\n",
       "      <td>7645</td>\n",
       "      <td>85</td>\n",
       "      <td>64</td>\n",
       "    </tr>\n",
       "    <tr>\n",
       "      <th>80</th>\n",
       "      <td>54</td>\n",
       "      <td>Pyrénées-Orientales</td>\n",
       "      <td>238647</td>\n",
       "      <td>392803</td>\n",
       "      <td>441387</td>\n",
       "      <td>448543</td>\n",
       "      <td>4116</td>\n",
       "      <td>109</td>\n",
       "      <td>66</td>\n",
       "    </tr>\n",
       "    <tr>\n",
       "      <th>81</th>\n",
       "      <td>4</td>\n",
       "      <td>Rhône</td>\n",
       "      <td>1046028</td>\n",
       "      <td>1578869</td>\n",
       "      <td>1690498</td>\n",
       "      <td>1725177</td>\n",
       "      <td>3249</td>\n",
       "      <td>531</td>\n",
       "      <td>69</td>\n",
       "    </tr>\n",
       "    <tr>\n",
       "      <th>82</th>\n",
       "      <td>46</td>\n",
       "      <td>Sarthe</td>\n",
       "      <td>384619</td>\n",
       "      <td>529851</td>\n",
       "      <td>559587</td>\n",
       "      <td>563518</td>\n",
       "      <td>6206</td>\n",
       "      <td>91</td>\n",
       "      <td>72</td>\n",
       "    </tr>\n",
       "    <tr>\n",
       "      <th>83</th>\n",
       "      <td>57</td>\n",
       "      <td>Savoie</td>\n",
       "      <td>235544</td>\n",
       "      <td>373258</td>\n",
       "      <td>408842</td>\n",
       "      <td>414959</td>\n",
       "      <td>6028</td>\n",
       "      <td>69</td>\n",
       "      <td>73</td>\n",
       "    </tr>\n",
       "    <tr>\n",
       "      <th>84</th>\n",
       "      <td>47</td>\n",
       "      <td>Saône-et-Loire</td>\n",
       "      <td>538741</td>\n",
       "      <td>544893</td>\n",
       "      <td>553968</td>\n",
       "      <td>555663</td>\n",
       "      <td>8575</td>\n",
       "      <td>65</td>\n",
       "      <td>71</td>\n",
       "    </tr>\n",
       "    <tr>\n",
       "      <th>85</th>\n",
       "      <td>11</td>\n",
       "      <td>Seine-et-Marne</td>\n",
       "      <td>406108</td>\n",
       "      <td>1193767</td>\n",
       "      <td>1303702</td>\n",
       "      <td>1324865</td>\n",
       "      <td>5915</td>\n",
       "      <td>224</td>\n",
       "      <td>77</td>\n",
       "    </tr>\n",
       "    <tr>\n",
       "      <th>86</th>\n",
       "      <td>13</td>\n",
       "      <td>Seine-Maritime</td>\n",
       "      <td>905278</td>\n",
       "      <td>1239138</td>\n",
       "      <td>1248580</td>\n",
       "      <td>1250411</td>\n",
       "      <td>6278</td>\n",
       "      <td>199</td>\n",
       "      <td>76</td>\n",
       "    </tr>\n",
       "    <tr>\n",
       "      <th>87</th>\n",
       "      <td>6</td>\n",
       "      <td>Seine-Saint-Denis</td>\n",
       "      <td>769315</td>\n",
       "      <td>1382861</td>\n",
       "      <td>1506466</td>\n",
       "      <td>1522048</td>\n",
       "      <td>236</td>\n",
       "      <td>6449</td>\n",
       "      <td>93</td>\n",
       "    </tr>\n",
       "    <tr>\n",
       "      <th>88</th>\n",
       "      <td>44</td>\n",
       "      <td>Somme</td>\n",
       "      <td>466626</td>\n",
       "      <td>555551</td>\n",
       "      <td>568086</td>\n",
       "      <td>570741</td>\n",
       "      <td>6170</td>\n",
       "      <td>93</td>\n",
       "      <td>80</td>\n",
       "    </tr>\n",
       "    <tr>\n",
       "      <th>89</th>\n",
       "      <td>64</td>\n",
       "      <td>Tarn</td>\n",
       "      <td>302994</td>\n",
       "      <td>343402</td>\n",
       "      <td>371738</td>\n",
       "      <td>375379</td>\n",
       "      <td>5758</td>\n",
       "      <td>65</td>\n",
       "      <td>81</td>\n",
       "    </tr>\n",
       "    <tr>\n",
       "      <th>90</th>\n",
       "      <td>81</td>\n",
       "      <td>Tarn-et-Garonne</td>\n",
       "      <td>164259</td>\n",
       "      <td>206034</td>\n",
       "      <td>235915</td>\n",
       "      <td>241698</td>\n",
       "      <td>3718</td>\n",
       "      <td>65</td>\n",
       "      <td>82</td>\n",
       "    </tr>\n",
       "    <tr>\n",
       "      <th>91</th>\n",
       "      <td>98</td>\n",
       "      <td>Territoire de Belfort</td>\n",
       "      <td>99403</td>\n",
       "      <td>137408</td>\n",
       "      <td>141958</td>\n",
       "      <td>142911</td>\n",
       "      <td>609</td>\n",
       "      <td>235</td>\n",
       "      <td>90</td>\n",
       "    </tr>\n",
       "    <tr>\n",
       "      <th>92</th>\n",
       "      <td>17</td>\n",
       "      <td>Val-d'Oise</td>\n",
       "      <td>353374</td>\n",
       "      <td>1105464</td>\n",
       "      <td>1165397</td>\n",
       "      <td>1171161</td>\n",
       "      <td>1246</td>\n",
       "      <td>940</td>\n",
       "      <td>95</td>\n",
       "    </tr>\n",
       "    <tr>\n",
       "      <th>93</th>\n",
       "      <td>10</td>\n",
       "      <td>Val-de-Marne</td>\n",
       "      <td>657322</td>\n",
       "      <td>1227250</td>\n",
       "      <td>1310876</td>\n",
       "      <td>1327732</td>\n",
       "      <td>245</td>\n",
       "      <td>5419</td>\n",
       "      <td>94</td>\n",
       "    </tr>\n",
       "    <tr>\n",
       "      <th>94</th>\n",
       "      <td>22</td>\n",
       "      <td>Var</td>\n",
       "      <td>377104</td>\n",
       "      <td>898441</td>\n",
       "      <td>1001408</td>\n",
       "      <td>1008183</td>\n",
       "      <td>5973</td>\n",
       "      <td>169</td>\n",
       "      <td>83</td>\n",
       "    </tr>\n",
       "    <tr>\n",
       "      <th>95</th>\n",
       "      <td>48</td>\n",
       "      <td>Vaucluse</td>\n",
       "      <td>241689</td>\n",
       "      <td>499685</td>\n",
       "      <td>538902</td>\n",
       "      <td>555240</td>\n",
       "      <td>3567</td>\n",
       "      <td>152</td>\n",
       "      <td>84</td>\n",
       "    </tr>\n",
       "    <tr>\n",
       "      <th>96</th>\n",
       "      <td>37</td>\n",
       "      <td>Vendée</td>\n",
       "      <td>390396</td>\n",
       "      <td>539664</td>\n",
       "      <td>616906</td>\n",
       "      <td>634778</td>\n",
       "      <td>6720</td>\n",
       "      <td>94</td>\n",
       "      <td>85</td>\n",
       "    </tr>\n",
       "    <tr>\n",
       "      <th>97</th>\n",
       "      <td>56</td>\n",
       "      <td>Vienne</td>\n",
       "      <td>303072</td>\n",
       "      <td>399024</td>\n",
       "      <td>424354</td>\n",
       "      <td>427193</td>\n",
       "      <td>6990</td>\n",
       "      <td>61</td>\n",
       "      <td>86</td>\n",
       "    </tr>\n",
       "    <tr>\n",
       "      <th>98</th>\n",
       "      <td>62</td>\n",
       "      <td>Vosges</td>\n",
       "      <td>377980</td>\n",
       "      <td>380952</td>\n",
       "      <td>380145</td>\n",
       "      <td>379724</td>\n",
       "      <td>5874</td>\n",
       "      <td>65</td>\n",
       "      <td>88</td>\n",
       "    </tr>\n",
       "    <tr>\n",
       "      <th>99</th>\n",
       "      <td>69</td>\n",
       "      <td>Yonne</td>\n",
       "      <td>275755</td>\n",
       "      <td>333221</td>\n",
       "      <td>342359</td>\n",
       "      <td>342510</td>\n",
       "      <td>7427</td>\n",
       "      <td>46</td>\n",
       "      <td>89</td>\n",
       "    </tr>\n",
       "    <tr>\n",
       "      <th>100</th>\n",
       "      <td>9</td>\n",
       "      <td>Yvelines</td>\n",
       "      <td>408282</td>\n",
       "      <td>1354308</td>\n",
       "      <td>1406053</td>\n",
       "      <td>1408765</td>\n",
       "      <td>2284</td>\n",
       "      <td>617</td>\n",
       "      <td>78</td>\n",
       "    </tr>\n",
       "  </tbody>\n",
       "</table>\n",
       "<p>101 rows × 9 columns</p>\n",
       "</div>"
      ],
      "text/plain": [
       "     2010_Rank               Department   Pop_31   Pop_99   Pop_08   Pop_10  \\\n",
       "0           40                      Ain   322918   515270   581355   597341   \n",
       "1           49                    Aisne   489368   535489   538790   540508   \n",
       "2           68                   Allier   373924   344721   342807   342908   \n",
       "3           94  Alpes-de-Haute-Provence    87566   139561   157965   160149   \n",
       "4           19          Alpes-Maritimes   493376  1011326  1084428  1078729   \n",
       "5           77                 Ardennes   293746   290130   284197   283250   \n",
       "6           72                  Ardèche   282911   286023   311452   315090   \n",
       "7           95                   Ariège   161265   137205   150201   152038   \n",
       "8           75                     Aube   242596   292131   301327   303327   \n",
       "9           66                     Aude   296880   309770   349237   356467   \n",
       "10          78                  Aveyron   323782   263808   275889   276805   \n",
       "11          18                 Bas-Rhin   688242  1026120  1091015  1095905   \n",
       "12           3         Bouches-du-Rhône  1101672  1835719  1966005  1972018   \n",
       "13          34                 Calvados   401356   648385   678206   683105   \n",
       "14          96                   Cantal   193505   150778   148737   148162   \n",
       "15          67                 Charente   310489   339628   351581   351577   \n",
       "16          39        Charente-Maritime   415249   557024   611714   622323   \n",
       "17          73                     Cher   293918   314428   313251   311257   \n",
       "18          80                  Corrèze   264129   232576   242896   243551   \n",
       "19          97             Corse-du-Sud        -   118593   140953   143600   \n",
       "20         100                   Creuse   207882   124470   123907   123029   \n",
       "21          51                Côte-d'Or   333800   506755   521608   524358   \n",
       "22          41            Côtes-d'Armor   539531   542373   581570   591641   \n",
       "23          65              Deux-Sèvres   308481   344392   365059   369270   \n",
       "24          58                 Dordogne   383720   388293   409388   414149   \n",
       "25          50                    Doubs   305500   499062   522685   527770   \n",
       "26          53                    Drôme   267080   437778   478069   484715   \n",
       "27          15                  Essonne   271094  1134238  1205850  1215340   \n",
       "28          43                     Eure   305788   541054   577087   586543   \n",
       "29          55             Eure-et-Loir   254790   407665   423559   428933   \n",
       "..         ...                      ...      ...      ...      ...      ...   \n",
       "71          20                  Moselle   693408  1023447  1042230  1045066   \n",
       "72          87                   Nièvre   255195   225198   220653   219584   \n",
       "73           1                     Nord  2029449  2555020  2564959  2576770   \n",
       "74          26                     Oise   407432   766441   799725   803595   \n",
       "75          76                     Orne   273717   292337   292282   291642   \n",
       "76           2                    Paris  2891020  2125246  2211297  2243833   \n",
       "77           7            Pas-de-Calais  1205191  1441568  1459531  1461387   \n",
       "78          38              Puy-de-Dôme   500590   604266   628485   632311   \n",
       "79          36     Pyrénées-Atlantiques   422719   600018   647420   653515   \n",
       "80          54      Pyrénées-Orientales   238647   392803   441387   448543   \n",
       "81           4                    Rhône  1046028  1578869  1690498  1725177   \n",
       "82          46                   Sarthe   384619   529851   559587   563518   \n",
       "83          57                   Savoie   235544   373258   408842   414959   \n",
       "84          47           Saône-et-Loire   538741   544893   553968   555663   \n",
       "85          11           Seine-et-Marne   406108  1193767  1303702  1324865   \n",
       "86          13           Seine-Maritime   905278  1239138  1248580  1250411   \n",
       "87           6        Seine-Saint-Denis   769315  1382861  1506466  1522048   \n",
       "88          44                    Somme   466626   555551   568086   570741   \n",
       "89          64                     Tarn   302994   343402   371738   375379   \n",
       "90          81          Tarn-et-Garonne   164259   206034   235915   241698   \n",
       "91          98    Territoire de Belfort    99403   137408   141958   142911   \n",
       "92          17               Val-d'Oise   353374  1105464  1165397  1171161   \n",
       "93          10             Val-de-Marne   657322  1227250  1310876  1327732   \n",
       "94          22                      Var   377104   898441  1001408  1008183   \n",
       "95          48                 Vaucluse   241689   499685   538902   555240   \n",
       "96          37                   Vendée   390396   539664   616906   634778   \n",
       "97          56                   Vienne   303072   399024   424354   427193   \n",
       "98          62                   Vosges   377980   380952   380145   379724   \n",
       "99          69                    Yonne   275755   333221   342359   342510   \n",
       "100          9                 Yvelines   408282  1354308  1406053  1408765   \n",
       "\n",
       "     Area  Area_pop/km2 INSEE Dept_No  \n",
       "0    5762           104            01  \n",
       "1    7369            73            02  \n",
       "2    7340            47            03  \n",
       "3    6925            23            04  \n",
       "4    4299           251            06  \n",
       "5    5229            54            08  \n",
       "6    5529            57            07  \n",
       "7    4890            31            09  \n",
       "8    6004            51            10  \n",
       "9    6139            58            11  \n",
       "10   8735            32            12  \n",
       "11   4755           230            67  \n",
       "12   5087           388            13  \n",
       "13   5548           123            14  \n",
       "14   5726            26            15  \n",
       "15   5956            59            16  \n",
       "16   6864            91            17  \n",
       "17   7235            43            18  \n",
       "18   5857            42            19  \n",
       "19   4014            36            2A  \n",
       "20   5565            22            23  \n",
       "21   8763            60            21  \n",
       "22   6878            86            22  \n",
       "23   5999            62            79  \n",
       "24   9060            46            24  \n",
       "25   5234           101            25  \n",
       "26   6530            74            26  \n",
       "27   1804           674            91  \n",
       "28   6040            97            27  \n",
       "29   5880            73            28  \n",
       "..    ...           ...           ...  \n",
       "71   6216           168            57  \n",
       "72   6817            32            58  \n",
       "73   5743           449            59  \n",
       "74   5860           137            60  \n",
       "75   6103            48            61  \n",
       "76    105         21370            75  \n",
       "77   6671           219            62  \n",
       "78   7970            79            63  \n",
       "79   7645            85            64  \n",
       "80   4116           109            66  \n",
       "81   3249           531            69  \n",
       "82   6206            91            72  \n",
       "83   6028            69            73  \n",
       "84   8575            65            71  \n",
       "85   5915           224            77  \n",
       "86   6278           199            76  \n",
       "87    236          6449            93  \n",
       "88   6170            93            80  \n",
       "89   5758            65            81  \n",
       "90   3718            65            82  \n",
       "91    609           235            90  \n",
       "92   1246           940            95  \n",
       "93    245          5419            94  \n",
       "94   5973           169            83  \n",
       "95   3567           152            84  \n",
       "96   6720            94            85  \n",
       "97   6990            61            86  \n",
       "98   5874            65            88  \n",
       "99   7427            46            89  \n",
       "100  2284           617            78  \n",
       "\n",
       "[101 rows x 9 columns]"
      ]
     },
     "execution_count": 9,
     "metadata": {},
     "output_type": "execute_result"
    }
   ],
   "source": [
    "population"
   ]
  },
  {
   "cell_type": "markdown",
   "metadata": {},
   "source": [
    "## Data Preparation"
   ]
  },
  {
   "cell_type": "code",
   "execution_count": 10,
   "metadata": {},
   "outputs": [],
   "source": [
    "population_essential = population[[\"Department\", \"Pop_10\"]]"
   ]
  },
  {
   "cell_type": "code",
   "execution_count": 11,
   "metadata": {},
   "outputs": [
    {
     "data": {
      "text/html": [
       "<div>\n",
       "<style>\n",
       "    .dataframe thead tr:only-child th {\n",
       "        text-align: right;\n",
       "    }\n",
       "\n",
       "    .dataframe thead th {\n",
       "        text-align: left;\n",
       "    }\n",
       "\n",
       "    .dataframe tbody tr th {\n",
       "        vertical-align: top;\n",
       "    }\n",
       "</style>\n",
       "<table border=\"1\" class=\"dataframe\">\n",
       "  <thead>\n",
       "    <tr style=\"text-align: right;\">\n",
       "      <th></th>\n",
       "      <th>Department</th>\n",
       "      <th>Pop_10</th>\n",
       "    </tr>\n",
       "  </thead>\n",
       "  <tbody>\n",
       "    <tr>\n",
       "      <th>0</th>\n",
       "      <td>Ain</td>\n",
       "      <td>597341</td>\n",
       "    </tr>\n",
       "    <tr>\n",
       "      <th>1</th>\n",
       "      <td>Aisne</td>\n",
       "      <td>540508</td>\n",
       "    </tr>\n",
       "    <tr>\n",
       "      <th>2</th>\n",
       "      <td>Allier</td>\n",
       "      <td>342908</td>\n",
       "    </tr>\n",
       "    <tr>\n",
       "      <th>3</th>\n",
       "      <td>Alpes-de-Haute-Provence</td>\n",
       "      <td>160149</td>\n",
       "    </tr>\n",
       "    <tr>\n",
       "      <th>4</th>\n",
       "      <td>Alpes-Maritimes</td>\n",
       "      <td>1078729</td>\n",
       "    </tr>\n",
       "  </tbody>\n",
       "</table>\n",
       "</div>"
      ],
      "text/plain": [
       "                Department   Pop_10\n",
       "0                      Ain   597341\n",
       "1                    Aisne   540508\n",
       "2                   Allier   342908\n",
       "3  Alpes-de-Haute-Provence   160149\n",
       "4          Alpes-Maritimes  1078729"
      ]
     },
     "execution_count": 11,
     "metadata": {},
     "output_type": "execute_result"
    }
   ],
   "source": [
    "population_essential.head()"
   ]
  },
  {
   "cell_type": "code",
   "execution_count": 12,
   "metadata": {},
   "outputs": [],
   "source": [
    "# group by name of department and calculate group size\n",
    "museum_count = museums.groupby(\"NOMDEP\").size()"
   ]
  },
  {
   "cell_type": "code",
   "execution_count": 13,
   "metadata": {},
   "outputs": [
    {
     "data": {
      "text/plain": [
       "Index(['AIN', 'AISNE', 'ALLIER', 'ALPES DE HAUTE PROVENCE', 'ALPES-MARITIMES',\n",
       "       'ARDECHE', 'ARDENNES', 'ARIEGE', 'AUBE', 'AUDE',\n",
       "       ...\n",
       "       'TERRITOIRE DE BELFORT', 'VAL D'OISE', 'VAL DE MARNE', 'VAR',\n",
       "       'VAUCLUSE', 'VENDEE', 'VIENNE', 'VOSGES', 'YONNE', 'YVELINES'],\n",
       "      dtype='object', name='NOMDEP', length=101)"
      ]
     },
     "execution_count": 13,
     "metadata": {},
     "output_type": "execute_result"
    }
   ],
   "source": [
    "# merge dataframes by name\n",
    "museum_count.index"
   ]
  },
  {
   "cell_type": "code",
   "execution_count": 14,
   "metadata": {
    "collapsed": true
   },
   "outputs": [],
   "source": [
    "def string_convert(s):\n",
    "    s = s.upper()\n",
    "    return s"
   ]
  },
  {
   "cell_type": "code",
   "execution_count": 15,
   "metadata": {},
   "outputs": [
    {
     "name": "stderr",
     "output_type": "stream",
     "text": [
      "/home/polykarpos/anaconda3/lib/python3.6/site-packages/ipykernel_launcher.py:1: SettingWithCopyWarning: \n",
      "A value is trying to be set on a copy of a slice from a DataFrame.\n",
      "Try using .loc[row_indexer,col_indexer] = value instead\n",
      "\n",
      "See the caveats in the documentation: http://pandas.pydata.org/pandas-docs/stable/indexing.html#indexing-view-versus-copy\n",
      "  \"\"\"Entry point for launching an IPython kernel.\n"
     ]
    }
   ],
   "source": [
    "population_essential[\"Department\"] = population_essential[\"Department\"].apply(string_convert)"
   ]
  },
  {
   "cell_type": "code",
   "execution_count": 16,
   "metadata": {},
   "outputs": [
    {
     "data": {
      "text/html": [
       "<div>\n",
       "<style>\n",
       "    .dataframe thead tr:only-child th {\n",
       "        text-align: right;\n",
       "    }\n",
       "\n",
       "    .dataframe thead th {\n",
       "        text-align: left;\n",
       "    }\n",
       "\n",
       "    .dataframe tbody tr th {\n",
       "        vertical-align: top;\n",
       "    }\n",
       "</style>\n",
       "<table border=\"1\" class=\"dataframe\">\n",
       "  <thead>\n",
       "    <tr style=\"text-align: right;\">\n",
       "      <th></th>\n",
       "      <th>Department</th>\n",
       "      <th>Pop_10</th>\n",
       "    </tr>\n",
       "  </thead>\n",
       "  <tbody>\n",
       "    <tr>\n",
       "      <th>0</th>\n",
       "      <td>AIN</td>\n",
       "      <td>597341</td>\n",
       "    </tr>\n",
       "    <tr>\n",
       "      <th>1</th>\n",
       "      <td>AISNE</td>\n",
       "      <td>540508</td>\n",
       "    </tr>\n",
       "    <tr>\n",
       "      <th>2</th>\n",
       "      <td>ALLIER</td>\n",
       "      <td>342908</td>\n",
       "    </tr>\n",
       "    <tr>\n",
       "      <th>3</th>\n",
       "      <td>ALPES-DE-HAUTE-PROVENCE</td>\n",
       "      <td>160149</td>\n",
       "    </tr>\n",
       "    <tr>\n",
       "      <th>4</th>\n",
       "      <td>ALPES-MARITIMES</td>\n",
       "      <td>1078729</td>\n",
       "    </tr>\n",
       "  </tbody>\n",
       "</table>\n",
       "</div>"
      ],
      "text/plain": [
       "                Department   Pop_10\n",
       "0                      AIN   597341\n",
       "1                    AISNE   540508\n",
       "2                   ALLIER   342908\n",
       "3  ALPES-DE-HAUTE-PROVENCE   160149\n",
       "4          ALPES-MARITIMES  1078729"
      ]
     },
     "execution_count": 16,
     "metadata": {},
     "output_type": "execute_result"
    }
   ],
   "source": [
    "population_essential.head()"
   ]
  },
  {
   "cell_type": "code",
   "execution_count": 17,
   "metadata": {},
   "outputs": [
    {
     "data": {
      "text/plain": [
       "Index(['AIN', 'AISNE', 'ALLIER', 'ALPES DE HAUTE PROVENCE', 'ALPES-MARITIMES',\n",
       "       'ARDECHE', 'ARDENNES', 'ARIEGE', 'AUBE', 'AUDE',\n",
       "       ...\n",
       "       'TERRITOIRE DE BELFORT', 'VAL D'OISE', 'VAL DE MARNE', 'VAR',\n",
       "       'VAUCLUSE', 'VENDEE', 'VIENNE', 'VOSGES', 'YONNE', 'YVELINES'],\n",
       "      dtype='object', name='NOMDEP', length=101)"
      ]
     },
     "execution_count": 17,
     "metadata": {},
     "output_type": "execute_result"
    }
   ],
   "source": [
    "museum_count.index"
   ]
  },
  {
   "cell_type": "code",
   "execution_count": 18,
   "metadata": {},
   "outputs": [],
   "source": [
    "museum_count_df = pandas.DataFrame(museum_count, index=museum_count.index, columns=[\"museums\"])"
   ]
  },
  {
   "cell_type": "code",
   "execution_count": 19,
   "metadata": {},
   "outputs": [
    {
     "data": {
      "text/html": [
       "<div>\n",
       "<style>\n",
       "    .dataframe thead tr:only-child th {\n",
       "        text-align: right;\n",
       "    }\n",
       "\n",
       "    .dataframe thead th {\n",
       "        text-align: left;\n",
       "    }\n",
       "\n",
       "    .dataframe tbody tr th {\n",
       "        vertical-align: top;\n",
       "    }\n",
       "</style>\n",
       "<table border=\"1\" class=\"dataframe\">\n",
       "  <thead>\n",
       "    <tr style=\"text-align: right;\">\n",
       "      <th></th>\n",
       "      <th>museums</th>\n",
       "    </tr>\n",
       "    <tr>\n",
       "      <th>NOMDEP</th>\n",
       "      <th></th>\n",
       "    </tr>\n",
       "  </thead>\n",
       "  <tbody>\n",
       "    <tr>\n",
       "      <th>AIN</th>\n",
       "      <td>14</td>\n",
       "    </tr>\n",
       "    <tr>\n",
       "      <th>AISNE</th>\n",
       "      <td>15</td>\n",
       "    </tr>\n",
       "    <tr>\n",
       "      <th>ALLIER</th>\n",
       "      <td>9</td>\n",
       "    </tr>\n",
       "    <tr>\n",
       "      <th>ALPES DE HAUTE PROVENCE</th>\n",
       "      <td>9</td>\n",
       "    </tr>\n",
       "    <tr>\n",
       "      <th>ALPES-MARITIMES</th>\n",
       "      <td>33</td>\n",
       "    </tr>\n",
       "  </tbody>\n",
       "</table>\n",
       "</div>"
      ],
      "text/plain": [
       "                         museums\n",
       "NOMDEP                          \n",
       "AIN                           14\n",
       "AISNE                         15\n",
       "ALLIER                         9\n",
       "ALPES DE HAUTE PROVENCE        9\n",
       "ALPES-MARITIMES               33"
      ]
     },
     "execution_count": 19,
     "metadata": {},
     "output_type": "execute_result"
    }
   ],
   "source": [
    "museum_count_df.head()"
   ]
  },
  {
   "cell_type": "code",
   "execution_count": 20,
   "metadata": {},
   "outputs": [],
   "source": [
    "population_essential.index = population_essential[\"Department\"]"
   ]
  },
  {
   "cell_type": "code",
   "execution_count": 21,
   "metadata": {},
   "outputs": [
    {
     "data": {
      "text/html": [
       "<div>\n",
       "<style>\n",
       "    .dataframe thead tr:only-child th {\n",
       "        text-align: right;\n",
       "    }\n",
       "\n",
       "    .dataframe thead th {\n",
       "        text-align: left;\n",
       "    }\n",
       "\n",
       "    .dataframe tbody tr th {\n",
       "        vertical-align: top;\n",
       "    }\n",
       "</style>\n",
       "<table border=\"1\" class=\"dataframe\">\n",
       "  <thead>\n",
       "    <tr style=\"text-align: right;\">\n",
       "      <th></th>\n",
       "      <th>Department</th>\n",
       "      <th>Pop_10</th>\n",
       "    </tr>\n",
       "    <tr>\n",
       "      <th>Department</th>\n",
       "      <th></th>\n",
       "      <th></th>\n",
       "    </tr>\n",
       "  </thead>\n",
       "  <tbody>\n",
       "    <tr>\n",
       "      <th>AIN</th>\n",
       "      <td>AIN</td>\n",
       "      <td>597341</td>\n",
       "    </tr>\n",
       "    <tr>\n",
       "      <th>AISNE</th>\n",
       "      <td>AISNE</td>\n",
       "      <td>540508</td>\n",
       "    </tr>\n",
       "    <tr>\n",
       "      <th>ALLIER</th>\n",
       "      <td>ALLIER</td>\n",
       "      <td>342908</td>\n",
       "    </tr>\n",
       "    <tr>\n",
       "      <th>ALPES-DE-HAUTE-PROVENCE</th>\n",
       "      <td>ALPES-DE-HAUTE-PROVENCE</td>\n",
       "      <td>160149</td>\n",
       "    </tr>\n",
       "    <tr>\n",
       "      <th>ALPES-MARITIMES</th>\n",
       "      <td>ALPES-MARITIMES</td>\n",
       "      <td>1078729</td>\n",
       "    </tr>\n",
       "  </tbody>\n",
       "</table>\n",
       "</div>"
      ],
      "text/plain": [
       "                                      Department   Pop_10\n",
       "Department                                               \n",
       "AIN                                          AIN   597341\n",
       "AISNE                                      AISNE   540508\n",
       "ALLIER                                    ALLIER   342908\n",
       "ALPES-DE-HAUTE-PROVENCE  ALPES-DE-HAUTE-PROVENCE   160149\n",
       "ALPES-MARITIMES                  ALPES-MARITIMES  1078729"
      ]
     },
     "execution_count": 21,
     "metadata": {},
     "output_type": "execute_result"
    }
   ],
   "source": [
    "population_essential.head()"
   ]
  },
  {
   "cell_type": "code",
   "execution_count": 22,
   "metadata": {},
   "outputs": [],
   "source": [
    "# create merged data frame: \n",
    "joined = population_essential.join(museum_count_df)"
   ]
  },
  {
   "cell_type": "code",
   "execution_count": 23,
   "metadata": {},
   "outputs": [
    {
     "data": {
      "text/html": [
       "<div>\n",
       "<style>\n",
       "    .dataframe thead tr:only-child th {\n",
       "        text-align: right;\n",
       "    }\n",
       "\n",
       "    .dataframe thead th {\n",
       "        text-align: left;\n",
       "    }\n",
       "\n",
       "    .dataframe tbody tr th {\n",
       "        vertical-align: top;\n",
       "    }\n",
       "</style>\n",
       "<table border=\"1\" class=\"dataframe\">\n",
       "  <thead>\n",
       "    <tr style=\"text-align: right;\">\n",
       "      <th></th>\n",
       "      <th>Department</th>\n",
       "      <th>Pop_10</th>\n",
       "      <th>museums</th>\n",
       "    </tr>\n",
       "    <tr>\n",
       "      <th>Department</th>\n",
       "      <th></th>\n",
       "      <th></th>\n",
       "      <th></th>\n",
       "    </tr>\n",
       "  </thead>\n",
       "  <tbody>\n",
       "    <tr>\n",
       "      <th>AIN</th>\n",
       "      <td>AIN</td>\n",
       "      <td>597341</td>\n",
       "      <td>14.0</td>\n",
       "    </tr>\n",
       "    <tr>\n",
       "      <th>AISNE</th>\n",
       "      <td>AISNE</td>\n",
       "      <td>540508</td>\n",
       "      <td>15.0</td>\n",
       "    </tr>\n",
       "    <tr>\n",
       "      <th>ALLIER</th>\n",
       "      <td>ALLIER</td>\n",
       "      <td>342908</td>\n",
       "      <td>9.0</td>\n",
       "    </tr>\n",
       "    <tr>\n",
       "      <th>ALPES-DE-HAUTE-PROVENCE</th>\n",
       "      <td>ALPES-DE-HAUTE-PROVENCE</td>\n",
       "      <td>160149</td>\n",
       "      <td>NaN</td>\n",
       "    </tr>\n",
       "    <tr>\n",
       "      <th>ALPES-MARITIMES</th>\n",
       "      <td>ALPES-MARITIMES</td>\n",
       "      <td>1078729</td>\n",
       "      <td>33.0</td>\n",
       "    </tr>\n",
       "  </tbody>\n",
       "</table>\n",
       "</div>"
      ],
      "text/plain": [
       "                                      Department   Pop_10  museums\n",
       "Department                                                        \n",
       "AIN                                          AIN   597341     14.0\n",
       "AISNE                                      AISNE   540508     15.0\n",
       "ALLIER                                    ALLIER   342908      9.0\n",
       "ALPES-DE-HAUTE-PROVENCE  ALPES-DE-HAUTE-PROVENCE   160149      NaN\n",
       "ALPES-MARITIMES                  ALPES-MARITIMES  1078729     33.0"
      ]
     },
     "execution_count": 23,
     "metadata": {},
     "output_type": "execute_result"
    }
   ],
   "source": [
    "joined.head()"
   ]
  },
  {
   "cell_type": "code",
   "execution_count": 24,
   "metadata": {
    "collapsed": true
   },
   "outputs": [],
   "source": [
    "# TODO: there are still department name mismatches"
   ]
  },
  {
   "cell_type": "code",
   "execution_count": 25,
   "metadata": {},
   "outputs": [
    {
     "data": {
      "text/plain": [
       "Department     object\n",
       "Pop_10         object\n",
       "museums       float64\n",
       "dtype: object"
      ]
     },
     "execution_count": 25,
     "metadata": {},
     "output_type": "execute_result"
    }
   ],
   "source": [
    "joined.dtypes"
   ]
  },
  {
   "cell_type": "code",
   "execution_count": 26,
   "metadata": {},
   "outputs": [],
   "source": [
    "joined[\"population\"] = joined[\"Pop_10\"].apply(lambda s: pandas.to_numeric(s, errors=\"drop\"))"
   ]
  },
  {
   "cell_type": "code",
   "execution_count": 27,
   "metadata": {},
   "outputs": [
    {
     "data": {
      "text/html": [
       "<div>\n",
       "<style>\n",
       "    .dataframe thead tr:only-child th {\n",
       "        text-align: right;\n",
       "    }\n",
       "\n",
       "    .dataframe thead th {\n",
       "        text-align: left;\n",
       "    }\n",
       "\n",
       "    .dataframe tbody tr th {\n",
       "        vertical-align: top;\n",
       "    }\n",
       "</style>\n",
       "<table border=\"1\" class=\"dataframe\">\n",
       "  <thead>\n",
       "    <tr style=\"text-align: right;\">\n",
       "      <th></th>\n",
       "      <th>Department</th>\n",
       "      <th>Pop_10</th>\n",
       "      <th>museums</th>\n",
       "      <th>population</th>\n",
       "    </tr>\n",
       "    <tr>\n",
       "      <th>Department</th>\n",
       "      <th></th>\n",
       "      <th></th>\n",
       "      <th></th>\n",
       "      <th></th>\n",
       "    </tr>\n",
       "  </thead>\n",
       "  <tbody>\n",
       "    <tr>\n",
       "      <th>AIN</th>\n",
       "      <td>AIN</td>\n",
       "      <td>597341</td>\n",
       "      <td>14.0</td>\n",
       "      <td>597341.0</td>\n",
       "    </tr>\n",
       "    <tr>\n",
       "      <th>AISNE</th>\n",
       "      <td>AISNE</td>\n",
       "      <td>540508</td>\n",
       "      <td>15.0</td>\n",
       "      <td>540508.0</td>\n",
       "    </tr>\n",
       "    <tr>\n",
       "      <th>ALLIER</th>\n",
       "      <td>ALLIER</td>\n",
       "      <td>342908</td>\n",
       "      <td>9.0</td>\n",
       "      <td>342908.0</td>\n",
       "    </tr>\n",
       "    <tr>\n",
       "      <th>ALPES-DE-HAUTE-PROVENCE</th>\n",
       "      <td>ALPES-DE-HAUTE-PROVENCE</td>\n",
       "      <td>160149</td>\n",
       "      <td>NaN</td>\n",
       "      <td>160149.0</td>\n",
       "    </tr>\n",
       "    <tr>\n",
       "      <th>ALPES-MARITIMES</th>\n",
       "      <td>ALPES-MARITIMES</td>\n",
       "      <td>1078729</td>\n",
       "      <td>33.0</td>\n",
       "      <td>1078729.0</td>\n",
       "    </tr>\n",
       "  </tbody>\n",
       "</table>\n",
       "</div>"
      ],
      "text/plain": [
       "                                      Department   Pop_10  museums  population\n",
       "Department                                                                    \n",
       "AIN                                          AIN   597341     14.0    597341.0\n",
       "AISNE                                      AISNE   540508     15.0    540508.0\n",
       "ALLIER                                    ALLIER   342908      9.0    342908.0\n",
       "ALPES-DE-HAUTE-PROVENCE  ALPES-DE-HAUTE-PROVENCE   160149      NaN    160149.0\n",
       "ALPES-MARITIMES                  ALPES-MARITIMES  1078729     33.0   1078729.0"
      ]
     },
     "execution_count": 27,
     "metadata": {},
     "output_type": "execute_result"
    }
   ],
   "source": [
    "joined.head()"
   ]
  },
  {
   "cell_type": "markdown",
   "metadata": {},
   "source": [
    "## Solution"
   ]
  },
  {
   "cell_type": "code",
   "execution_count": 28,
   "metadata": {},
   "outputs": [
    {
     "data": {
      "text/plain": [
       "<matplotlib.axes._subplots.AxesSubplot at 0x7f037beb24e0>"
      ]
     },
     "execution_count": 28,
     "metadata": {},
     "output_type": "execute_result"
    },
    {
     "name": "stderr",
     "output_type": "stream",
     "text": [
      "/home/polykarpos/anaconda3/lib/python3.6/site-packages/matplotlib/font_manager.py:1297: UserWarning: findfont: Font family ['sans-serif'] not found. Falling back to DejaVu Sans\n",
      "  (prop.get_family(), self.defaultFamily[fontext]))\n"
     ]
    },
    {
     "data": {
      "image/png": "[encoded data removed]",
      "text/plain": [
       "<matplotlib.figure.Figure at 0x7f037bf05940>"
      ]
     },
     "metadata": {},
     "output_type": "display_data"
    }
   ],
   "source": [
    "plt.figure(figsize=(16,6))\n",
    "seaborn.regplot(data=joined, x=\"population\", y=\"museums\")"
   ]
  },
  {
   "cell_type": "code",
   "execution_count": 29,
   "metadata": {},
   "outputs": [
    {
     "data": {
      "text/html": [
       "<div>\n",
       "<style>\n",
       "    .dataframe thead tr:only-child th {\n",
       "        text-align: right;\n",
       "    }\n",
       "\n",
       "    .dataframe thead th {\n",
       "        text-align: left;\n",
       "    }\n",
       "\n",
       "    .dataframe tbody tr th {\n",
       "        vertical-align: top;\n",
       "    }\n",
       "</style>\n",
       "<table border=\"1\" class=\"dataframe\">\n",
       "  <thead>\n",
       "    <tr style=\"text-align: right;\">\n",
       "      <th></th>\n",
       "      <th>museums</th>\n",
       "      <th>population</th>\n",
       "    </tr>\n",
       "  </thead>\n",
       "  <tbody>\n",
       "    <tr>\n",
       "      <th>museums</th>\n",
       "      <td>1.000000</td>\n",
       "      <td>0.720635</td>\n",
       "    </tr>\n",
       "    <tr>\n",
       "      <th>population</th>\n",
       "      <td>0.720635</td>\n",
       "      <td>1.000000</td>\n",
       "    </tr>\n",
       "  </tbody>\n",
       "</table>\n",
       "</div>"
      ],
      "text/plain": [
       "             museums  population\n",
       "museums     1.000000    0.720635\n",
       "population  0.720635    1.000000"
      ]
     },
     "execution_count": 29,
     "metadata": {},
     "output_type": "execute_result"
    }
   ],
   "source": [
    "# Pearson's correlation coefficient\n",
    "joined.corr()"
   ]
  },
  {
   "cell_type": "code",
   "execution_count": 30,
   "metadata": {
    "collapsed": true
   },
   "outputs": [],
   "source": [
    "# TODO: estimate can be improved by correcting name mismatches,e.g. normalizing the writing of all names,\n",
    "# e.g \"ALPES DE HAUTE PROVENCE\" vs \"ALPES-DE-HAUTE-PROVENCE\""
   ]
  },
  {
   "cell_type": "code",
   "execution_count": null,
   "metadata": {
    "collapsed": true
   },
   "outputs": [],
   "source": [
    "def string_convert(s):\n",
    "    s = s.upper()\n",
    "    return s"
   ]
  },
  {
   "cell_type": "markdown",
   "metadata": {
    "collapsed": true
   },
   "source": [
    "# Machine Learning Task "
   ]
  },
  {
   "cell_type": "code",
   "execution_count": 31,
   "metadata": {
    "scrolled": false
   },
   "outputs": [
    {
     "name": "stdout",
     "output_type": "stream",
     "text": [
      "(100,)\n",
      "(100, 2)\n"
     ]
    },
    {
     "data": {
      "text/plain": [
       "<matplotlib.collections.PathCollection at 0x7f037409ea90>"
      ]
     },
     "execution_count": 31,
     "metadata": {},
     "output_type": "execute_result"
    },
    {
     "name": "stderr",
     "output_type": "stream",
     "text": [
      "/home/polykarpos/anaconda3/lib/python3.6/site-packages/matplotlib/font_manager.py:1297: UserWarning: findfont: Font family ['sans-serif'] not found. Falling back to DejaVu Sans\n",
      "  (prop.get_family(), self.defaultFamily[fontext]))\n"
     ]
    },
    {
     "data": {
      "image/png": "[encoded data removed]",
      "text/plain": [
       "<matplotlib.figure.Figure at 0x7f037beda2b0>"
      ]
     },
     "metadata": {},
     "output_type": "display_data"
    }
   ],
   "source": [
    "%matplotlib inline\n",
    "import numpy as np\n",
    "import matplotlib.pyplot as plt\n",
    "from sklearn import datasets\n",
    "from sklearn.linear_model import LogisticRegression\n",
    "np.set_printoptions(precision=2)  # to have simpler print outputs with numpy\n",
    "iris = datasets.load_iris()\n",
    "X = iris.data\n",
    "y = iris.target\n",
    "X = X[:, :2]\n",
    "X = X[y < 2]\n",
    "y = y[y < 2]\n",
    "X = np.asarray(X, dtype=np.float)\n",
    "y = np.asarray(y, dtype=np.float)  \n",
    "y[y == 0] = -1\n",
    "\n",
    "print(y.shape)\n",
    "print(X.shape)\n",
    "\n",
    "plt.scatter(X[y > 0, 0], X[y > 0, 1], color='r')\n",
    "plt.scatter(X[y < 0, 0], X[y < 0, 1], color='g')\n"
   ]
  },
  {
   "cell_type": "markdown",
   "metadata": {},
   "source": [
    "Assume we would like to minimize the L2 penalized logistic regression function. \n",
    "\n",
    "$$f(w) = \\sum_{i=1}^n \\log(1 + \\exp(- y_i (x_i^\\top w)))) + \\lambda \\|w\\|^2$$\n",
    "\n",
    "When we use the convention that $y=1$ for the positive class and $y=-1$ for the negative class\n",
    "the model reads:\n",
    "\n",
    "$$\n",
    "\\hat{w} = \\mathop{\\textrm{argmin}}_{w} \\sum_{i=1}^n \\log(1 + \\exp(- y_i (x_i^\\top w )))) + \\lambda \\|w\\|^2\n",
    "$$\n",
    "\n",
    "where $w$ is a vector of coefficients of size $p$ and $\\lambda > 0$ is a regularization parameter.\n",
    "\n",
    "\n",
    "\n",
    "1) Write the formulas for the gradient and the Hessian matrix of f at point w \n",
    "\n",
    "2) Minimize f using Newton's method by applying the update rule \n",
    "\n",
    "$$\n",
    "w = w -  H^{-1} \\nabla f(w_t)^\\top\n",
    "$$\n",
    "\n",
    "where $H$ is the Hessian and $\\nabla f(w_t)$ the gradient at iteration t.\n",
    "\n",
    "3a) What is the benefit of using the regularization term $\\lambda \\|w\\|^2$?  \n",
    "\n",
    "3b) How would you choose the value of the regularization parameter  $\\lambda$, in order to get a robust model?\n",
    "\n",
    "3c) Assume you would also like to perform some feature selection while minimizing f. What would you change in the objective function f in order to get the most sparse or simple solution to problem and why?\n"
   ]
  },
  {
   "cell_type": "code",
   "execution_count": 32,
   "metadata": {},
   "outputs": [],
   "source": [
    "# TODO\n",
    "\n",
    "def logistic_function(X, y, w):\n",
    "    f=(np.sum(np.log(1. + np.exp(- y * np.dot(X, w)))) + alpha*linalg.norm(w) **2)\n",
    "    return f\n",
    "\n",
    "\n",
    "def gradient(X, y, w):\n",
    "    # TODO\n",
    "    return grad\n",
    "\n",
    "\n",
    "def hessian(X, y, w):\n",
    "    # TODO\n",
    "    return hess\n",
    "\n",
    "\n",
    "def newton_logistic(X, y):\n",
    "    w = np.zeros(X.shape[1])    \n",
    "    objective_values = []\n",
    "    #show that the objective value drops at each iteration  \n",
    "\n",
    "    return w"
   ]
  },
  {
   "cell_type": "code",
   "execution_count": 33,
   "metadata": {},
   "outputs": [],
   "source": [
    "alpha = 0.1\n",
    "w = newton_logistic(X, y)"
   ]
  },
  {
   "cell_type": "markdown",
   "metadata": {},
   "source": [
    "## Answers\n",
    "\n",
    "3a) Regularization term penalizes high model complexity. High model complexity is associated with a risk for overfitting.\n",
    "\n",
    "3b) Choose lambda through automated hyperparameter optimization with cross-validation, e.g. in scikit-learn:\n",
    "    `sklearn.linear_model.LogisticRegressionCV`, or more generally, `sklearn.model_selection.GridSearchCV` or `sklearn.model_selection.RandomizedSearchCV`\n",
    "    \n",
    "3c) Using L1-regularization (\"lasso\", L1 norm instead of L2 norm) enables a kind of automatic feature selection by zeroing out some coefficients, which are weights on features."
   ]
  },
  {
   "cell_type": "markdown",
   "metadata": {},
   "source": [
    "# Bonus Task"
   ]
  },
  {
   "cell_type": "markdown",
   "metadata": {},
   "source": [
    "In this task you have to design a routine that will be able to match the names between two different lists. Actually, we provide to you two lists of names contained in files `A.txt` and `B.txt` (each line corresponds to a single name). Your routine should match each one of the name of the first list (`A.txt`) with one of them contained in the second list (`B.txt`). You should also take into account that each name of the first list match with only one of the names provided in the second one. Last but not least, you are free to select whatever similarity measure you like.\n",
    "\n",
    "For instance, the name `barbara simmons` of the first list (`A.txt`) matches with that of `barbara simmond` on the second list."
   ]
  },
  {
   "cell_type": "code",
   "execution_count": 34,
   "metadata": {
    "collapsed": true
   },
   "outputs": [],
   "source": [
    "#Please add your code here"
   ]
  },
  {
   "cell_type": "markdown",
   "metadata": {},
   "source": [
    "## Read Data"
   ]
  },
  {
   "cell_type": "code",
   "execution_count": 35,
   "metadata": {},
   "outputs": [
    {
     "name": "stdout",
     "output_type": "stream",
     "text": [
      "barbara simmons\r",
      "\r\n",
      "wayne martin\r",
      "\r\n",
      "jesse simmons\r",
      "\r\n",
      "louis lewis\r",
      "\r\n",
      "lori moore\r",
      "\r\n",
      "anne washington\r",
      "\r\n",
      "matthew romero\r",
      "\r\n",
      "rachel stephens\r",
      "\r\n",
      "stephanie moore\r",
      "\r\n",
      "steven mccoy\r",
      "\r\n"
     ]
    }
   ],
   "source": [
    "!head A.txt"
   ]
  },
  {
   "cell_type": "code",
   "execution_count": 36,
   "metadata": {
    "collapsed": true
   },
   "outputs": [],
   "source": [
    "A = pandas.read_csv(\"A.txt\", names=[\"name\"])\n",
    "B = pandas.read_csv(\"B.txt\", names=[\"name\"])"
   ]
  },
  {
   "cell_type": "code",
   "execution_count": 37,
   "metadata": {},
   "outputs": [
    {
     "data": {
      "text/plain": [
       "(1000, 1)"
      ]
     },
     "execution_count": 37,
     "metadata": {},
     "output_type": "execute_result"
    }
   ],
   "source": [
    "A.shape"
   ]
  },
  {
   "cell_type": "code",
   "execution_count": 38,
   "metadata": {},
   "outputs": [
    {
     "data": {
      "text/plain": [
       "(1000, 1)"
      ]
     },
     "execution_count": 38,
     "metadata": {},
     "output_type": "execute_result"
    }
   ],
   "source": [
    "B.shape"
   ]
  },
  {
   "cell_type": "code",
   "execution_count": 39,
   "metadata": {},
   "outputs": [
    {
     "data": {
      "text/html": [
       "<div>\n",
       "<style>\n",
       "    .dataframe thead tr:only-child th {\n",
       "        text-align: right;\n",
       "    }\n",
       "\n",
       "    .dataframe thead th {\n",
       "        text-align: left;\n",
       "    }\n",
       "\n",
       "    .dataframe tbody tr th {\n",
       "        vertical-align: top;\n",
       "    }\n",
       "</style>\n",
       "<table border=\"1\" class=\"dataframe\">\n",
       "  <thead>\n",
       "    <tr style=\"text-align: right;\">\n",
       "      <th></th>\n",
       "      <th>name</th>\n",
       "    </tr>\n",
       "  </thead>\n",
       "  <tbody>\n",
       "    <tr>\n",
       "      <th>0</th>\n",
       "      <td>barbara simmons</td>\n",
       "    </tr>\n",
       "    <tr>\n",
       "      <th>1</th>\n",
       "      <td>wayne martin</td>\n",
       "    </tr>\n",
       "    <tr>\n",
       "      <th>2</th>\n",
       "      <td>jesse simmons</td>\n",
       "    </tr>\n",
       "    <tr>\n",
       "      <th>3</th>\n",
       "      <td>louis lewis</td>\n",
       "    </tr>\n",
       "    <tr>\n",
       "      <th>4</th>\n",
       "      <td>lori moore</td>\n",
       "    </tr>\n",
       "  </tbody>\n",
       "</table>\n",
       "</div>"
      ],
      "text/plain": [
       "              name\n",
       "0  barbara simmons\n",
       "1     wayne martin\n",
       "2    jesse simmons\n",
       "3      louis lewis\n",
       "4       lori moore"
      ]
     },
     "execution_count": 39,
     "metadata": {},
     "output_type": "execute_result"
    }
   ],
   "source": [
    "A.head()"
   ]
  },
  {
   "cell_type": "code",
   "execution_count": 40,
   "metadata": {},
   "outputs": [
    {
     "data": {
      "text/html": [
       "<div>\n",
       "<style>\n",
       "    .dataframe thead tr:only-child th {\n",
       "        text-align: right;\n",
       "    }\n",
       "\n",
       "    .dataframe thead th {\n",
       "        text-align: left;\n",
       "    }\n",
       "\n",
       "    .dataframe tbody tr th {\n",
       "        vertical-align: top;\n",
       "    }\n",
       "</style>\n",
       "<table border=\"1\" class=\"dataframe\">\n",
       "  <thead>\n",
       "    <tr style=\"text-align: right;\">\n",
       "      <th></th>\n",
       "      <th>name</th>\n",
       "    </tr>\n",
       "  </thead>\n",
       "  <tbody>\n",
       "    <tr>\n",
       "      <th>0</th>\n",
       "      <td>raymond wazrren</td>\n",
       "    </tr>\n",
       "    <tr>\n",
       "      <th>1</th>\n",
       "      <td>brian robinsown</td>\n",
       "    </tr>\n",
       "    <tr>\n",
       "      <th>2</th>\n",
       "      <td>loxuis romero</td>\n",
       "    </tr>\n",
       "    <tr>\n",
       "      <th>3</th>\n",
       "      <td>bocnie ray</td>\n",
       "    </tr>\n",
       "    <tr>\n",
       "      <th>4</th>\n",
       "      <td>clraig hart</td>\n",
       "    </tr>\n",
       "  </tbody>\n",
       "</table>\n",
       "</div>"
      ],
      "text/plain": [
       "              name\n",
       "0  raymond wazrren\n",
       "1  brian robinsown\n",
       "2    loxuis romero\n",
       "3       bocnie ray\n",
       "4      clraig hart"
      ]
     },
     "execution_count": 40,
     "metadata": {},
     "output_type": "execute_result"
    }
   ],
   "source": [
    "B.head()"
   ]
  },
  {
   "cell_type": "code",
   "execution_count": 41,
   "metadata": {},
   "outputs": [],
   "source": [
    "A = A.sort_values(by=\"name\")\n",
    "B = B.sort_values(by=\"name\")"
   ]
  },
  {
   "cell_type": "code",
   "execution_count": 53,
   "metadata": {},
   "outputs": [
    {
     "data": {
      "text/html": [
       "<div>\n",
       "<style>\n",
       "    .dataframe thead tr:only-child th {\n",
       "        text-align: right;\n",
       "    }\n",
       "\n",
       "    .dataframe thead th {\n",
       "        text-align: left;\n",
       "    }\n",
       "\n",
       "    .dataframe tbody tr th {\n",
       "        vertical-align: top;\n",
       "    }\n",
       "</style>\n",
       "<table border=\"1\" class=\"dataframe\">\n",
       "  <thead>\n",
       "    <tr style=\"text-align: right;\">\n",
       "      <th></th>\n",
       "      <th>name</th>\n",
       "    </tr>\n",
       "  </thead>\n",
       "  <tbody>\n",
       "    <tr>\n",
       "      <th>240</th>\n",
       "      <td>aaron lopez</td>\n",
       "    </tr>\n",
       "    <tr>\n",
       "      <th>799</th>\n",
       "      <td>aaron meyer</td>\n",
       "    </tr>\n",
       "    <tr>\n",
       "      <th>852</th>\n",
       "      <td>aaron ryan</td>\n",
       "    </tr>\n",
       "    <tr>\n",
       "      <th>82</th>\n",
       "      <td>adam holmes</td>\n",
       "    </tr>\n",
       "    <tr>\n",
       "      <th>913</th>\n",
       "      <td>adam hughes</td>\n",
       "    </tr>\n",
       "  </tbody>\n",
       "</table>\n",
       "</div>"
      ],
      "text/plain": [
       "            name\n",
       "240  aaron lopez\n",
       "799  aaron meyer\n",
       "852   aaron ryan\n",
       "82   adam holmes\n",
       "913  adam hughes"
      ]
     },
     "execution_count": 53,
     "metadata": {},
     "output_type": "execute_result"
    }
   ],
   "source": [
    "A.head()"
   ]
  },
  {
   "cell_type": "code",
   "execution_count": 54,
   "metadata": {},
   "outputs": [
    {
     "data": {
      "text/html": [
       "<div>\n",
       "<style>\n",
       "    .dataframe thead tr:only-child th {\n",
       "        text-align: right;\n",
       "    }\n",
       "\n",
       "    .dataframe thead th {\n",
       "        text-align: left;\n",
       "    }\n",
       "\n",
       "    .dataframe tbody tr th {\n",
       "        vertical-align: top;\n",
       "    }\n",
       "</style>\n",
       "<table border=\"1\" class=\"dataframe\">\n",
       "  <thead>\n",
       "    <tr style=\"text-align: right;\">\n",
       "      <th></th>\n",
       "      <th>name</th>\n",
       "    </tr>\n",
       "  </thead>\n",
       "  <tbody>\n",
       "    <tr>\n",
       "      <th>570</th>\n",
       "      <td>aaron lopeyz</td>\n",
       "    </tr>\n",
       "    <tr>\n",
       "      <th>924</th>\n",
       "      <td>aaron meyez</td>\n",
       "    </tr>\n",
       "    <tr>\n",
       "      <th>248</th>\n",
       "      <td>aatricia kennedy</td>\n",
       "    </tr>\n",
       "    <tr>\n",
       "      <th>349</th>\n",
       "      <td>acna vasquez</td>\n",
       "    </tr>\n",
       "    <tr>\n",
       "      <th>633</th>\n",
       "      <td>acron ryan</td>\n",
       "    </tr>\n",
       "  </tbody>\n",
       "</table>\n",
       "</div>"
      ],
      "text/plain": [
       "                 name\n",
       "570      aaron lopeyz\n",
       "924       aaron meyez\n",
       "248  aatricia kennedy\n",
       "349      acna vasquez\n",
       "633        acron ryan"
      ]
     },
     "execution_count": 54,
     "metadata": {},
     "output_type": "execute_result"
    }
   ],
   "source": [
    "B.head()"
   ]
  },
  {
   "cell_type": "markdown",
   "metadata": {},
   "source": [
    "## String Distance Metric"
   ]
  },
  {
   "cell_type": "code",
   "execution_count": 44,
   "metadata": {
    "collapsed": true
   },
   "outputs": [],
   "source": [
    "from difflib import SequenceMatcher"
   ]
  },
  {
   "cell_type": "code",
   "execution_count": 45,
   "metadata": {
    "collapsed": true
   },
   "outputs": [],
   "source": [
    "def string_match(a, b):\n",
    "    return SequenceMatcher(None, a, b).ratio()"
   ]
  },
  {
   "cell_type": "code",
   "execution_count": 46,
   "metadata": {},
   "outputs": [
    {
     "data": {
      "text/plain": [
       "0.9565217391304348"
      ]
     },
     "execution_count": 46,
     "metadata": {},
     "output_type": "execute_result"
    }
   ],
   "source": [
    "string_match(\"aaron lopez\", \"aaron lopeyz\")"
   ]
  },
  {
   "cell_type": "code",
   "execution_count": 47,
   "metadata": {},
   "outputs": [
    {
     "data": {
      "text/plain": [
       "0.34782608695652173"
      ]
     },
     "execution_count": 47,
     "metadata": {},
     "output_type": "execute_result"
    }
   ],
   "source": [
    "string_match(\"aaron lopez\", \"andrey welch\")"
   ]
  },
  {
   "cell_type": "markdown",
   "metadata": {},
   "source": [
    "## Matching Algorithm"
   ]
  },
  {
   "cell_type": "code",
   "execution_count": 48,
   "metadata": {
    "collapsed": true
   },
   "outputs": [],
   "source": [
    "import itertools"
   ]
  },
  {
   "cell_type": "code",
   "execution_count": 51,
   "metadata": {
    "collapsed": true
   },
   "outputs": [],
   "source": [
    "def match_names2(A, B, maxiter=None):\n",
    "    \"\"\"naive matching...\"\"\"\n",
    "    matches = []\n",
    "    i = 0\n",
    "    for a in A[\"name\"]:\n",
    "        if maxiter and i > maxiter:\n",
    "            return matches\n",
    "        best_match = None\n",
    "        mm = 0.0\n",
    "        for b in B[\"name\"]:\n",
    "            m = string_match(a, b)\n",
    "            if m > mm:\n",
    "                mm = m\n",
    "                best_match = b\n",
    "        matches.append((a, best_match))\n",
    "        i += 1\n",
    "    return matches\n",
    "            "
   ]
  },
  {
   "cell_type": "code",
   "execution_count": 52,
   "metadata": {},
   "outputs": [
    {
     "data": {
      "text/plain": [
       "[('aaron lopez', 'aaron lopeyz'),\n",
       " ('aaron meyer', 'aaron meyez'),\n",
       " ('aaron ryan', 'acron ryan'),\n",
       " ('adam holmes', 'adfm holmes'),\n",
       " ('adam hughes', 'adam hugohes'),\n",
       " ('adam olson', 'adam olsbn'),\n",
       " ('adam rogers', 'adam roger'),\n",
       " ('adam thomas', 'adam ythomas'),\n",
       " ('alan dunn', 'alan deunn'),\n",
       " ('alan marshall', 'alan marbhall'),\n",
       " ('alan murray', 'alan mqrray'),\n",
       " ('alan ray', 'malan ray'),\n",
       " ('alan ray', 'malan ray'),\n",
       " ('alan richardson', 'alan rsichardson'),\n",
       " ('albert alexander', 'albert alegxander'),\n",
       " ('albert anderson', 'albert anyderson'),\n",
       " ('albert baker', 'rlbert baker'),\n",
       " ('albert crawford', 'ajbert crawford'),\n",
       " ('albert morgan', 'albert miorgan'),\n",
       " ('albert perez', 'alberb perez'),\n",
       " ('albert ramirez', 'albert raxirez'),\n",
       " ('alice cook', 'aliwe cook'),\n",
       " ('alice green', 'alice grdeen'),\n",
       " ('alice long', 'alice lonmg'),\n",
       " ('alice matthews', 'alice matthdws'),\n",
       " ('alice morales', 'aliceg morales'),\n",
       " ('alice ruiz', 'alico ruiz'),\n",
       " ('alice russell', 'wlice russell'),\n",
       " ('alice stone', 'alice stonle'),\n",
       " ('amanda moore', 'aoanda moore'),\n",
       " ('amy fowler', 'amy fowlder'),\n",
       " ('amy gordon', 'amy gorndon'),\n",
       " ('amy jacobs', 'amy jacpobs'),\n",
       " ('amy johnson', 'amyg johnson'),\n",
       " ('amy miller', 'amy millzer'),\n",
       " ('amy mills', 'amy millsu'),\n",
       " ('andrea ferguson', 'andrea gferguson'),\n",
       " ('andrea ross', 'andrea rossr'),\n",
       " ('andrea ward', 'andrea weard'),\n",
       " ('andrea wright', 'nandrea wright'),\n",
       " ('andrew day', 'andrew dby'),\n",
       " ('andrew garza', 'ansdrew garza'),\n",
       " ('andrew henry', 'andree henry'),\n",
       " ('andrew martinez', 'andrew martyinez'),\n",
       " ('andrew meyer', 'andrei meyer'),\n",
       " ('andrew simmons', 'adrew simmons'),\n",
       " ('andrew welch', 'andrey welch'),\n",
       " ('angela garrett', 'angela garreott'),\n",
       " ('angela mitchell', 'angxela mitchell'),\n",
       " ('angela peters', 'anyela peters'),\n",
       " ('angela richardson', 'angela ricsardson'),\n",
       " ('ann freeman', 'ann freetman'),\n",
       " ('ann gilbert', 'anr gilbert'),\n",
       " ('ann little', 'ann littls'),\n",
       " ('ann riley', 'ann rilxy'),\n",
       " ('ann weaver', 'ann weaevr'),\n",
       " ('anna cunningham', 'annja cunningham'),\n",
       " ('anna fox', 'anmna fox'),\n",
       " ('anna harvey', 'anna harhey'),\n",
       " ('anna long', 'tanna long'),\n",
       " ('anna meyer', 'anpa meyer'),\n",
       " ('anna phillips', 'anna phillinps'),\n",
       " ('anna rodriguez', 'afna rodriguez'),\n",
       " ('anna stevens', 'anna stevezns'),\n",
       " ('anna vasquez', 'acna vasquez'),\n",
       " ('anne mason', 'anne masog'),\n",
       " ('anne morales', 'anne movrales'),\n",
       " ('anne roberts', 'anne robertv'),\n",
       " ('anne spencer', 'anne spencen'),\n",
       " ('anne stanley', 'annj stanley'),\n",
       " ('anne washington', 'anne hashington'),\n",
       " ('annie marshall', 'annie marshrall'),\n",
       " ('anthony diaz', 'anthony diazd'),\n",
       " ('anthony dunn', 'anthony odunn'),\n",
       " ('anthony hernandez', 'anthony hernanodez'),\n",
       " ('anthony peters', 'anthony pcters'),\n",
       " ('anthony stanley', 'anfthony stanley'),\n",
       " ('antonio bennett', 'antonio bennftt'),\n",
       " ('antonio crawford', 'antonio crawfjrd'),\n",
       " ('antonio fernandez', 'antoniro fernandez'),\n",
       " ('antonio gonzales', 'antonio gonzalbs'),\n",
       " ('antonio hall', 'anntonio hall'),\n",
       " ('antonio hart', 'anitonio hart'),\n",
       " ('antonio hart', 'anitonio hart'),\n",
       " ('antonio meyer', 'antonio mjeyer'),\n",
       " ('antonio richards', 'antoio richards'),\n",
       " ('antonio warren', 'antonio lwarren'),\n",
       " ('arthur bailey', 'airthur bailey'),\n",
       " ('ashley boyd', 'ashldy boyd'),\n",
       " ('ashley fuller', 'ahshley fuller'),\n",
       " ('barbara davis', 'barbara dbavis'),\n",
       " ('barbara moore', 'barbara mowre'),\n",
       " ('barbara morris', 'barbara morrisb'),\n",
       " ('barbara simmons', 'barbara simmond'),\n",
       " ('benjamin evans', 'beinjamin evans'),\n",
       " ('benjamin gonzales', 'bkenjamin gonzales'),\n",
       " ('benjamin lawson', 'benjaminw lawson'),\n",
       " ('benjamin long', 'benjamic long'),\n",
       " ('benjamin miller', 'beujamin miller'),\n",
       " ('benjamin porter', 'bejamin porter'),\n",
       " ('benjamin simmons', 'benjapmin simmons')]"
      ]
     },
     "execution_count": 52,
     "metadata": {},
     "output_type": "execute_result"
    }
   ],
   "source": [
    "match_names2(A, B, maxiter=100)"
   ]
  },
  {
   "cell_type": "markdown",
   "metadata": {},
   "source": [
    "^^ first test works, now look at performance"
   ]
  },
  {
   "cell_type": "code",
   "execution_count": 55,
   "metadata": {},
   "outputs": [
    {
     "name": "stdout",
     "output_type": "stream",
     "text": [
      "CPU times: user 55.4 s, sys: 4 ms, total: 55.5 s\n",
      "Wall time: 55 s\n"
     ]
    }
   ],
   "source": [
    "%time matches = match_names2(A, B, maxiter=None)"
   ]
  },
  {
   "cell_type": "code",
   "execution_count": 56,
   "metadata": {},
   "outputs": [
    {
     "data": {
      "text/plain": [
       "[('aaron lopez', 'aaron lopeyz'),\n",
       " ('aaron meyer', 'aaron meyez'),\n",
       " ('aaron ryan', 'acron ryan'),\n",
       " ('adam holmes', 'adfm holmes'),\n",
       " ('adam hughes', 'adam hugohes'),\n",
       " ('adam olson', 'adam olsbn'),\n",
       " ('adam rogers', 'adam roger'),\n",
       " ('adam thomas', 'adam ythomas'),\n",
       " ('alan dunn', 'alan deunn'),\n",
       " ('alan marshall', 'alan marbhall'),\n",
       " ('alan murray', 'alan mqrray'),\n",
       " ('alan ray', 'malan ray'),\n",
       " ('alan ray', 'malan ray'),\n",
       " ('alan richardson', 'alan rsichardson'),\n",
       " ('albert alexander', 'albert alegxander'),\n",
       " ('albert anderson', 'albert anyderson'),\n",
       " ('albert baker', 'rlbert baker'),\n",
       " ('albert crawford', 'ajbert crawford'),\n",
       " ('albert morgan', 'albert miorgan'),\n",
       " ('albert perez', 'alberb perez'),\n",
       " ('albert ramirez', 'albert raxirez'),\n",
       " ('alice cook', 'aliwe cook'),\n",
       " ('alice green', 'alice grdeen'),\n",
       " ('alice long', 'alice lonmg'),\n",
       " ('alice matthews', 'alice matthdws'),\n",
       " ('alice morales', 'aliceg morales'),\n",
       " ('alice ruiz', 'alico ruiz'),\n",
       " ('alice russell', 'wlice russell'),\n",
       " ('alice stone', 'alice stonle'),\n",
       " ('amanda moore', 'aoanda moore'),\n",
       " ('amy fowler', 'amy fowlder'),\n",
       " ('amy gordon', 'amy gorndon'),\n",
       " ('amy jacobs', 'amy jacpobs'),\n",
       " ('amy johnson', 'amyg johnson'),\n",
       " ('amy miller', 'amy millzer'),\n",
       " ('amy mills', 'amy millsu'),\n",
       " ('andrea ferguson', 'andrea gferguson'),\n",
       " ('andrea ross', 'andrea rossr'),\n",
       " ('andrea ward', 'andrea weard'),\n",
       " ('andrea wright', 'nandrea wright'),\n",
       " ('andrew day', 'andrew dby'),\n",
       " ('andrew garza', 'ansdrew garza'),\n",
       " ('andrew henry', 'andree henry'),\n",
       " ('andrew martinez', 'andrew martyinez'),\n",
       " ('andrew meyer', 'andrei meyer'),\n",
       " ('andrew simmons', 'adrew simmons'),\n",
       " ('andrew welch', 'andrey welch'),\n",
       " ('angela garrett', 'angela garreott'),\n",
       " ('angela mitchell', 'angxela mitchell'),\n",
       " ('angela peters', 'anyela peters'),\n",
       " ('angela richardson', 'angela ricsardson'),\n",
       " ('ann freeman', 'ann freetman'),\n",
       " ('ann gilbert', 'anr gilbert'),\n",
       " ('ann little', 'ann littls'),\n",
       " ('ann riley', 'ann rilxy'),\n",
       " ('ann weaver', 'ann weaevr'),\n",
       " ('anna cunningham', 'annja cunningham'),\n",
       " ('anna fox', 'anmna fox'),\n",
       " ('anna harvey', 'anna harhey'),\n",
       " ('anna long', 'tanna long'),\n",
       " ('anna meyer', 'anpa meyer'),\n",
       " ('anna phillips', 'anna phillinps'),\n",
       " ('anna rodriguez', 'afna rodriguez'),\n",
       " ('anna stevens', 'anna stevezns'),\n",
       " ('anna vasquez', 'acna vasquez'),\n",
       " ('anne mason', 'anne masog'),\n",
       " ('anne morales', 'anne movrales'),\n",
       " ('anne roberts', 'anne robertv'),\n",
       " ('anne spencer', 'anne spencen'),\n",
       " ('anne stanley', 'annj stanley'),\n",
       " ('anne washington', 'anne hashington'),\n",
       " ('annie marshall', 'annie marshrall'),\n",
       " ('anthony diaz', 'anthony diazd'),\n",
       " ('anthony dunn', 'anthony odunn'),\n",
       " ('anthony hernandez', 'anthony hernanodez'),\n",
       " ('anthony peters', 'anthony pcters'),\n",
       " ('anthony stanley', 'anfthony stanley'),\n",
       " ('antonio bennett', 'antonio bennftt'),\n",
       " ('antonio crawford', 'antonio crawfjrd'),\n",
       " ('antonio fernandez', 'antoniro fernandez'),\n",
       " ('antonio gonzales', 'antonio gonzalbs'),\n",
       " ('antonio hall', 'anntonio hall'),\n",
       " ('antonio hart', 'anitonio hart'),\n",
       " ('antonio hart', 'anitonio hart'),\n",
       " ('antonio meyer', 'antonio mjeyer'),\n",
       " ('antonio richards', 'antoio richards'),\n",
       " ('antonio warren', 'antonio lwarren'),\n",
       " ('arthur bailey', 'airthur bailey'),\n",
       " ('ashley boyd', 'ashldy boyd'),\n",
       " ('ashley fuller', 'ahshley fuller'),\n",
       " ('barbara davis', 'barbara dbavis'),\n",
       " ('barbara moore', 'barbara mowre'),\n",
       " ('barbara morris', 'barbara morrisb'),\n",
       " ('barbara simmons', 'barbara simmond'),\n",
       " ('benjamin evans', 'beinjamin evans'),\n",
       " ('benjamin gonzales', 'bkenjamin gonzales'),\n",
       " ('benjamin lawson', 'benjaminw lawson'),\n",
       " ('benjamin long', 'benjamic long'),\n",
       " ('benjamin miller', 'beujamin miller'),\n",
       " ('benjamin porter', 'bejamin porter')]"
      ]
     },
     "execution_count": 56,
     "metadata": {},
     "output_type": "execute_result"
    }
   ],
   "source": [
    "matches[:100]"
   ]
  },
  {
   "cell_type": "markdown",
   "metadata": {},
   "source": [
    "^^ brute force seems to work here"
   ]
  },
  {
   "cell_type": "code",
   "execution_count": 57,
   "metadata": {},
   "outputs": [
    {
     "data": {
      "text/plain": [
       "1000"
      ]
     },
     "execution_count": 57,
     "metadata": {},
     "output_type": "execute_result"
    }
   ],
   "source": [
    "len(matches)"
   ]
  },
  {
   "cell_type": "code",
   "execution_count": null,
   "metadata": {
    "collapsed": true
   },
   "outputs": [],
   "source": []
  }
 ],
 "metadata": {
  "anaconda-cloud": {},
  "kernelspec": {
   "display_name": "Python 3",
   "language": "python",
   "name": "python3"
  },
  "language_info": {
   "codemirror_mode": {
    "name": "ipython",
    "version": 3
   },
   "file_extension": ".py",
   "mimetype": "text/x-python",
   "name": "python",
   "nbconvert_exporter": "python",
   "pygments_lexer": "ipython3",
   "version": "3.6.1"
  }
 },
 "nbformat": 4,
 "nbformat_minor": 1
}
